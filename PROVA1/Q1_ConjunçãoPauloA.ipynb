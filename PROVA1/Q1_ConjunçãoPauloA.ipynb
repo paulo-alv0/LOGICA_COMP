{
 "cells": [
  {
   "cell_type": "markdown",
   "id": "65e2ae34-6f69-459c-ab95-85bb33d2ac5e",
   "metadata": {},
   "source": [
    "# Paulo Alves Moreira Junior \n",
    "## CDN (Ciência de Dados para Negócios) - 29/09/25 - Python 3"
   ]
  },
  {
   "cell_type": "code",
   "execution_count": 42,
   "id": "8724929d-1fbf-4b8e-8f79-09945a723d0a",
   "metadata": {},
   "outputs": [
    {
     "name": "stdin",
     "output_type": "stream",
     "text": [
      "O salário da vaga é:  3900\n",
      "Vaga: (homeoffice/presencial) home office\n"
     ]
    },
    {
     "name": "stdout",
     "output_type": "stream",
     "text": [
      "BOM/TRUE\n",
      "p = True | q = True\n"
     ]
    }
   ],
   "source": [
    "# 1) Conjunção (AND) - Oferta de Vaga\n",
    "\n",
    "# ENTRADAS\n",
    "salario = input(\"O salário da vaga é: \").replace(\".\",\"\").replace(\",\",\".\")\n",
    "trabalho = input(\"Vaga: (homeoffice/presencial)\").strip().replace(\" \",\"\").lower()\n",
    "\n",
    "salario_normalizado = float(salario)\n",
    "trabalho_normalizado = trabalho\n",
    "\n",
    "# PROPOSIÇÕES\n",
    "p = (salario_normalizado >= 3900.00)\n",
    "q = (trabalho_normalizado == \"homeoffice\")\n",
    "\n",
    "# LÓGICA\n",
    "if p and q: # (conjunção)\n",
    "    print(\"BOM/TRUE\") # SAÍDA\n",
    "else:\n",
    "    print(\"RUIM/FALSE\") # SAÍDA\n",
    "    \n",
    "print(\"p =\", p, \"| q =\", q)"
   ]
  }
 ],
 "metadata": {
  "kernelspec": {
   "display_name": "Python 3 (ipykernel)",
   "language": "python",
   "name": "python3"
  },
  "language_info": {
   "codemirror_mode": {
    "name": "ipython",
    "version": 3
   },
   "file_extension": ".py",
   "mimetype": "text/x-python",
   "name": "python",
   "nbconvert_exporter": "python",
   "pygments_lexer": "ipython3",
   "version": "3.13.5"
  }
 },
 "nbformat": 4,
 "nbformat_minor": 5
}
