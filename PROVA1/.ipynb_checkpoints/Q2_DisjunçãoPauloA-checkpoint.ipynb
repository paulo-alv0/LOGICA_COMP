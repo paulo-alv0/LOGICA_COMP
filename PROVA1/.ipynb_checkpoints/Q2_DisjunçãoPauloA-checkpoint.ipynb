{
 "cells": [
  {
   "cell_type": "markdown",
   "id": "406d86c0-24a8-4233-8536-a11562986e73",
   "metadata": {},
   "source": [
    "# Paulo Alves Moreira Junior \n",
    "## CDN (Ciência de Dados para Negócios) - 29/09/25 - Python 3"
   ]
  },
  {
   "cell_type": "code",
   "execution_count": 10,
   "id": "8663c7fb-f233-4b21-a497-3cba8c8dd784",
   "metadata": {},
   "outputs": [
    {
     "name": "stdin",
     "output_type": "stream",
     "text": [
      "Digite a primeira data:  Terça-Feira\n",
      "Digite a segunda data:  quarta-feira\n"
     ]
    },
    {
     "name": "stdout",
     "output_type": "stream",
     "text": [
      "Vaga aceita/TRUE\n"
     ]
    }
   ],
   "source": [
    "# 2) Disjunção (OR) - Agendamento de reunião\n",
    "\n",
    "# ENTRADAS\n",
    "primeira_data = input(\"Digite a primeira data: \").lower().replace(\" \",\"\")\n",
    "segunda_data = input(\"Digite a segunda data: \").lower().replace(\" \",\"\")\n",
    "\n",
    "# PROPOSIÇÕES\n",
    "p = (primeira_data == \"terça-feira\")\n",
    "q = (segunda_data == \"quinta-feira\")\n",
    "\n",
    "# LÓGICA\n",
    "if p or q: # (disjunção)\n",
    "    print(\"Vaga aceita/TRUE\") # SAÍDA\n",
    "else:\n",
    "    print(\"Vaga não aceita/FALSE\") # SAÍDA"
   ]
  }
 ],
 "metadata": {
  "kernelspec": {
   "display_name": "Python 3 (ipykernel)",
   "language": "python",
   "name": "python3"
  },
  "language_info": {
   "codemirror_mode": {
    "name": "ipython",
    "version": 3
   },
   "file_extension": ".py",
   "mimetype": "text/x-python",
   "name": "python",
   "nbconvert_exporter": "python",
   "pygments_lexer": "ipython3",
   "version": "3.13.5"
  }
 },
 "nbformat": 4,
 "nbformat_minor": 5
}
