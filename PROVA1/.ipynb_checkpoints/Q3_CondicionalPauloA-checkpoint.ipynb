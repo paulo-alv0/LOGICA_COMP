{
 "cells": [
  {
   "cell_type": "markdown",
   "id": "9255466d-3441-4d50-9b67-e045c8a7fefe",
   "metadata": {},
   "source": [
    "# Paulo Alves Moreira Junior \n",
    "## CDN (Ciência de Dados para Negócios) - 29/09/25 - Python 3"
   ]
  },
  {
   "cell_type": "code",
   "execution_count": 1,
   "id": "644b850c-beb0-432b-b13d-37fc8720172c",
   "metadata": {},
   "outputs": [
    {
     "name": "stdin",
     "output_type": "stream",
     "text": [
      "O usuário possui PII? (s/n) s\n",
      "Há consentimento/base legal? (s/n) n\n"
     ]
    },
    {
     "name": "stdout",
     "output_type": "stream",
     "text": [
      "BLOQUEADO: PII sem base legal.\n"
     ]
    }
   ],
   "source": [
    "# 3) Condicional (IF...ELSE) - Uso de PII e base legal\n",
    "\n",
    "# ENTRADAS\n",
    "usa_PII = input(\"O usuário possui PII? (s/n)\").strip().lower().startswith(\"s\") # Valor \"s\" = True\n",
    "consentimento_ou_base_legal = input(\"Há consentimento/base legal? (s/n)\").strip().lower().startswith(\"s\") # Valor \"s\" = True\n",
    "\n",
    "# LÓGICA\n",
    "if usa_PII and not consentimento_ou_base_legal: # (condição)\n",
    "    print(\"BLOQUEADO: PII sem base legal.\") # SAÍDA\n",
    "else:\n",
    "    print(\"OK: política atendida.\") # SAÍDA"
   ]
  }
 ],
 "metadata": {
  "kernelspec": {
   "display_name": "Python 3 (ipykernel)",
   "language": "python",
   "name": "python3"
  },
  "language_info": {
   "codemirror_mode": {
    "name": "ipython",
    "version": 3
   },
   "file_extension": ".py",
   "mimetype": "text/x-python",
   "name": "python",
   "nbconvert_exporter": "python",
   "pygments_lexer": "ipython3",
   "version": "3.13.5"
  }
 },
 "nbformat": 4,
 "nbformat_minor": 5
}
