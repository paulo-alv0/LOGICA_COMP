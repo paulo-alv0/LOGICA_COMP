{
 "cells": [
  {
   "cell_type": "markdown",
   "id": "d46d39e5-a9f4-4c0e-b0c4-a5956b89702e",
   "metadata": {},
   "source": [
    "# CONJUNÇÃO"
   ]
  },
  {
   "cell_type": "code",
   "execution_count": 2,
   "id": "28fbf7a7-6fba-462a-8044-0078fe7d5398",
   "metadata": {},
   "outputs": [],
   "source": [
    "# p: \"A atividade é em GRUPO\"\n",
    "# q: \"O primeiro grupo é PAR\"\n",
    "# r: \"O segundo grupo é ÍMPAR\""
   ]
  },
  {
   "cell_type": "code",
   "execution_count": 31,
   "id": "9643cb50-3875-4f07-a343-55240756daeb",
   "metadata": {},
   "outputs": [],
   "source": [
    "atividade = \"grupo\"\n",
    "primeiro = \"impar\"\n",
    "segundo = \"par\"\n",
    "\n",
    "p = (atividade == \"grupo\")\n",
    "q = (primeiro == \"par\")\n",
    "r = (segundo == \"impar\")\n",
    "\n",
    "calc = (p and q)\n",
    "final = (calc and r)"
   ]
  },
  {
   "cell_type": "code",
   "execution_count": 34,
   "id": "4b22a6c8-0bf8-4b85-99f3-35a17ce903db",
   "metadata": {},
   "outputs": [
    {
     "name": "stdout",
     "output_type": "stream",
     "text": [
      "TABELA-VERDADE - CONJUNÇÃO\n",
      "1 = True\n",
      "2 = False\n",
      "3 = False\n",
      "p = True E q = False = False\n",
      "q = False E r = False =\n",
      "Valor lógico final: False\n"
     ]
    }
   ],
   "source": [
    "print(\"TABELA-VERDADE - CONJUNÇÃO\")\n",
    "print(f\"1 = {p}\")\n",
    "print(f\"2 = {q}\")\n",
    "print(f\"3 = {r}\")\n",
    "\n",
    "print(f\"p = {p} E q = {q} = {calc}\")\n",
    "print(f\"q = {calc} E r = {r} =\")\n",
    "print(f\"Valor lógico final: {final}\")"
   ]
  },
  {
   "cell_type": "markdown",
   "id": "447cdae5-8288-4522-8f63-c65fa3006fa8",
   "metadata": {},
   "source": [
    "# DISJUNÇÃO"
   ]
  },
  {
   "cell_type": "code",
   "execution_count": 17,
   "id": "226db5a3-e775-48cb-9955-38ee080994b3",
   "metadata": {},
   "outputs": [],
   "source": [
    "# p: \"A atividade é em GRUPO\"\n",
    "# q: \"O primeiro grupo é PAR\"\n",
    "# r: \"O segundo grupo é ÍMPAR\""
   ]
  },
  {
   "cell_type": "code",
   "execution_count": 35,
   "id": "4319921b-9502-4b3f-8c84-31936b649104",
   "metadata": {},
   "outputs": [],
   "source": [
    "atividade = \"individual\"\n",
    "primeiro = \"par\"\n",
    "segundo = \"impar\"\n",
    "\n",
    "p = (atividade == \"grupo\")\n",
    "q = (primeiro == \"par\")\n",
    "r = (segundo == \"impar\")\n",
    "\n",
    "calc2 = (p or q)\n",
    "final2 = (calc2 or r)"
   ]
  },
  {
   "cell_type": "code",
   "execution_count": 36,
   "id": "aeefe00d-d911-4fe3-ab7a-dfda2b8545b9",
   "metadata": {},
   "outputs": [
    {
     "name": "stdout",
     "output_type": "stream",
     "text": [
      "TABELA-VERDADE - DISJUNÇÃO\n",
      "1 = False\n",
      "2 = True\n",
      "3 = True\n",
      "p = False OU q = True = True\n",
      "q = True OU r = True =\n",
      "Valor lógico final: True\n"
     ]
    }
   ],
   "source": [
    "print(\"TABELA-VERDADE - DISJUNÇÃO\")\n",
    "print(f\"1 = {p}\")\n",
    "print(f\"2 = {q}\")\n",
    "print(f\"3 = {r}\")\n",
    "\n",
    "print(f\"p = {p} OU q = {q} = {calc2}\")\n",
    "print(f\"q = {calc2} OU r = {r} =\")\n",
    "print(f\"Valor lógico final: {final2}\")"
   ]
  }
 ],
 "metadata": {
  "kernelspec": {
   "display_name": "Python 3 (ipykernel)",
   "language": "python",
   "name": "python3"
  },
  "language_info": {
   "codemirror_mode": {
    "name": "ipython",
    "version": 3
   },
   "file_extension": ".py",
   "mimetype": "text/x-python",
   "name": "python",
   "nbconvert_exporter": "python",
   "pygments_lexer": "ipython3",
   "version": "3.13.5"
  }
 },
 "nbformat": 4,
 "nbformat_minor": 5
}
