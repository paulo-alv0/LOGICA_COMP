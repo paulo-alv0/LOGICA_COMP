{
 "cells": [
  {
   "cell_type": "markdown",
   "id": "8689fb64-4b57-4c0b-a945-7a728941bdd6",
   "metadata": {},
   "source": [
    "# Conjunção (AND = ^): só é True quando p e q são True"
   ]
  },
  {
   "cell_type": "code",
   "execution_count": 14,
   "id": "c5d97b0b-e28b-4dbc-a672-3c2189ffe65a",
   "metadata": {},
   "outputs": [],
   "source": [
    "# p: \"A prova é aplicada hoje\"\n",
    "# q: \"A prova é respondida à caneta azul\""
   ]
  },
  {
   "cell_type": "code",
   "execution_count": 15,
   "id": "51da9600-f9ae-4335-9e0d-5d321ba117bf",
   "metadata": {},
   "outputs": [
    {
     "name": "stdout",
     "output_type": "stream",
     "text": [
      "p^q = False\n"
     ]
    }
   ],
   "source": [
    "dia = \"hoje\"\n",
    "caneta = \"preta\"\n",
    "\n",
    "p = (dia == \"hoje\")\n",
    "q = (caneta == \"azul\")\n",
    "\n",
    "print(\"p^q =\", p and q)\n",
    "# True só se for \"hoje\" E \"azul\""
   ]
  },
  {
   "cell_type": "code",
   "execution_count": 16,
   "id": "4b0c10bc-199f-4460-898b-4c14e40d6d26",
   "metadata": {},
   "outputs": [
    {
     "name": "stdout",
     "output_type": "stream",
     "text": [
      "p: True | q: False | p^q: False\n"
     ]
    }
   ],
   "source": [
    "print(\"p:\", p, \"| q:\", q, \"| p^q:\", p and q)"
   ]
  },
  {
   "cell_type": "markdown",
   "id": "283f278e-d192-4022-bd25-6a297359e9f0",
   "metadata": {},
   "source": [
    "# Exercício Proposto (Conjunções)"
   ]
  },
  {
   "cell_type": "code",
   "execution_count": 17,
   "id": "31b9c24f-d899-43cb-b24a-6bfb056ddfd5",
   "metadata": {},
   "outputs": [
    {
     "name": "stdout",
     "output_type": "stream",
     "text": [
      "p: True | q: False | p^q: False\n"
     ]
    }
   ],
   "source": [
    "# a) Alterar no código a cor da caneta = \"preta\" e testar (rodar);\n",
    "\n",
    "dia = \"hoje\"\n",
    "caneta = \"preta\"\n",
    "\n",
    "p = (dia == \"hoje\")\n",
    "q = (caneta == \"azul\")\n",
    "\n",
    "print(\"p:\", p, \"| q:\", q, \"| p^q:\", p and q)"
   ]
  },
  {
   "cell_type": "code",
   "execution_count": 18,
   "id": "6876ba11-1bdf-472c-b17e-2d385a65cb90",
   "metadata": {},
   "outputs": [
    {
     "name": "stdout",
     "output_type": "stream",
     "text": [
      "p: False | q: True | p^q: False\n"
     ]
    }
   ],
   "source": [
    "# b) Alterar no código o dia = \"amanhã\" e testar (rodar);\n",
    "\n",
    "dia = \"amanhã\"\n",
    "caneta = \"azul\"\n",
    "\n",
    "p = (dia == \"hoje\")\n",
    "q = (caneta == \"azul\")\n",
    "\n",
    "print(\"p:\", p, \"| q:\", q, \"| p^q:\", p and q)"
   ]
  },
  {
   "cell_type": "code",
   "execution_count": 19,
   "id": "5afe3eb8-770b-4db3-a2d6-a75b435a1933",
   "metadata": {},
   "outputs": [
    {
     "name": "stdout",
     "output_type": "stream",
     "text": [
      "p: False | q: False | p^q: False\n"
     ]
    }
   ],
   "source": [
    "# c) Alterar no código o dia = \"ontem\" e caneta = \"preta\" e testar (rodar).\n",
    "\n",
    "dia = \"ontem\"\n",
    "caneta = \"preta\"\n",
    "\n",
    "p = (dia == \"hoje\")\n",
    "q = (caneta == \"azul\")\n",
    "\n",
    "print(\"p:\", p, \"| q:\", q, \"| p^q:\", p and q)"
   ]
  }
 ],
 "metadata": {
  "kernelspec": {
   "display_name": "Python 3 (ipykernel)",
   "language": "python",
   "name": "python3"
  },
  "language_info": {
   "codemirror_mode": {
    "name": "ipython",
    "version": 3
   },
   "file_extension": ".py",
   "mimetype": "text/x-python",
   "name": "python",
   "nbconvert_exporter": "python",
   "pygments_lexer": "ipython3",
   "version": "3.13.5"
  }
 },
 "nbformat": 4,
 "nbformat_minor": 5
}
