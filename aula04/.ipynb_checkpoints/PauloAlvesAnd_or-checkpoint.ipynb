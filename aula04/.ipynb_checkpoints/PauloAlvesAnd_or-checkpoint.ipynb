{
 "cells": [
  {
   "cell_type": "markdown",
   "id": "839add02-3bb5-427f-b46d-fa74f683070e",
   "metadata": {},
   "source": [
    "# Código com Conjunção e Disjunção"
   ]
  },
  {
   "cell_type": "code",
   "execution_count": 1,
   "id": "fb230770-0e06-4471-90c2-e8bbc16313e5",
   "metadata": {},
   "outputs": [],
   "source": [
    "# p: \"A prova é aplicada hoje\"\n",
    "# q: \"A prova é respondida à caneta azul\""
   ]
  },
  {
   "cell_type": "code",
   "execution_count": 13,
   "id": "9b05a70b-da51-44b9-bffb-9b617a16d696",
   "metadata": {},
   "outputs": [
    {
     "name": "stdout",
     "output_type": "stream",
     "text": [
      "p = False | q = False\n",
      "p^q = False (True só se for hoje E azul)\n",
      "pvq = False (True se for hoje OU azul, ou ambos)\n"
     ]
    }
   ],
   "source": [
    "dia = \"ontem\"\n",
    "caneta = \"preta\"\n",
    "\n",
    "p = (dia == \"hoje\")\n",
    "q = (caneta == \"azul\")\n",
    "\n",
    "conj = p and q # conjunção (E)\n",
    "\n",
    "disj = p or q # disjunção (OU)\n",
    "\n",
    "print(f\"p = {p} | q = {q}\")\n",
    "print(f\"p^q = {conj} (True só se for hoje E azul)\")\n",
    "print(f\"pvq = {disj} (True se for hoje OU azul, ou ambos)\")"
   ]
  },
  {
   "cell_type": "markdown",
   "id": "9bc5f78c-6aec-48cd-9b5d-f85e8c72d262",
   "metadata": {},
   "source": [
    "# Exercício Proposto (AND / OR)"
   ]
  },
  {
   "cell_type": "code",
   "execution_count": 14,
   "id": "a38336d4-b936-4fce-aebd-4d47806dc4d8",
   "metadata": {},
   "outputs": [
    {
     "name": "stdout",
     "output_type": "stream",
     "text": [
      "p = True | q = False\n",
      "p^q = True E False = False\n",
      "pvq = True OU False = True\n"
     ]
    }
   ],
   "source": [
    "# a) Alterar no código a cor da caneta = \"verde\" e testar (rodar);\n",
    "\n",
    "dia = \"hoje\"\n",
    "caneta = \"verde\"\n",
    "\n",
    "p = (dia == \"hoje\")\n",
    "q = (caneta == \"azul\")\n",
    "\n",
    "conj = p and q # conjunção (E)\n",
    "disj = p or q # disjunção (OU)\n",
    "\n",
    "print(f\"p = {p} | q = {q}\")\n",
    "print(f\"p^q = {p} E {q} = {conj}\")\n",
    "print(f\"pvq = {p} OU {q} = {disj}\")"
   ]
  },
  {
   "cell_type": "code",
   "execution_count": 15,
   "id": "2a11f0e8-8dfa-46fd-aebd-456d7af103a2",
   "metadata": {},
   "outputs": [
    {
     "name": "stdout",
     "output_type": "stream",
     "text": [
      "p = False | q = True\n",
      "p^q = False E True = False\n",
      "pvq = False OU True = True\n"
     ]
    }
   ],
   "source": [
    "# b) Alterar no código o dia = \"ontem\" e testar (rodar);\n",
    "\n",
    "dia = \"ontem\"\n",
    "caneta = \"azul\"\n",
    "\n",
    "p = (dia == \"hoje\")\n",
    "q = (caneta == \"azul\")\n",
    "\n",
    "conj = p and q # conjunção (E)\n",
    "disj = p or q # disjunção (OU)\n",
    "\n",
    "print(f\"p = {p} | q = {q}\")\n",
    "print(f\"p^q = {p} E {q} = {conj}\")\n",
    "print(f\"pvq = {p} OU {q} = {disj}\")"
   ]
  },
  {
   "cell_type": "code",
   "execution_count": 16,
   "id": "cc589b33-3745-4c7b-ab97-a92fb0376411",
   "metadata": {},
   "outputs": [
    {
     "name": "stdout",
     "output_type": "stream",
     "text": [
      "p = False | q = False\n",
      "p^q = False E False = False\n",
      "pvq = False OU False = False\n"
     ]
    }
   ],
   "source": [
    "# c) Alterar no código o dia = \"amanhã\" e caneta = \"preta\" e testar (rodar).\n",
    "\n",
    "dia = \"amanhã\"\n",
    "caneta = \"preta\"\n",
    "\n",
    "p = (dia == \"hoje\")\n",
    "q = (caneta == \"azul\")\n",
    "\n",
    "conj = p and q # conjunção (E)\n",
    "disj = p or q # disjunção (OU)\n",
    "\n",
    "print(f\"p = {p} | q = {q}\")\n",
    "print(f\"p^q = {p} E {q} = {conj}\")\n",
    "print(f\"pvq = {p} OU {q} = {disj}\")"
   ]
  }
 ],
 "metadata": {
  "kernelspec": {
   "display_name": "Python 3 (ipykernel)",
   "language": "python",
   "name": "python3"
  },
  "language_info": {
   "codemirror_mode": {
    "name": "ipython",
    "version": 3
   },
   "file_extension": ".py",
   "mimetype": "text/x-python",
   "name": "python",
   "nbconvert_exporter": "python",
   "pygments_lexer": "ipython3",
   "version": "3.13.5"
  }
 },
 "nbformat": 4,
 "nbformat_minor": 5
}
