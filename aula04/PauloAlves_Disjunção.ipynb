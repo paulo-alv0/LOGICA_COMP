{
 "cells": [
  {
   "cell_type": "markdown",
   "id": "649943a0-15f5-40c6-8016-f78c891b4d83",
   "metadata": {},
   "source": [
    "# Disjunção (OR = v): só é False quando p e q são False"
   ]
  },
  {
   "cell_type": "code",
   "execution_count": 1,
   "id": "e24f0aa2-3c3a-4f34-825b-fb371d2f60aa",
   "metadata": {},
   "outputs": [],
   "source": [
    "# p: \"A prova é aplicada hoje\"\n",
    "# q: \"A prova é respondida à caneta azul\""
   ]
  },
  {
   "cell_type": "code",
   "execution_count": 2,
   "id": "d2b01466-7348-4707-9997-9bc35acb3a7e",
   "metadata": {},
   "outputs": [
    {
     "name": "stdout",
     "output_type": "stream",
     "text": [
      "pvq = True\n"
     ]
    }
   ],
   "source": [
    "dia = \"hoje\"\n",
    "caneta = \"azul\"\n",
    "\n",
    "p = (dia == \"hoje\")\n",
    "q = (caneta == \"azul\")\n",
    "\n",
    "print(\"pvq =\", p or q)\n",
    "# False só se for \"hoje\" OU \"azul\""
   ]
  },
  {
   "cell_type": "code",
   "execution_count": 3,
   "id": "f64db1e4-54c0-4fe4-aee0-3982f68294d0",
   "metadata": {},
   "outputs": [
    {
     "name": "stdout",
     "output_type": "stream",
     "text": [
      "p: True | q: True | pvq: True\n"
     ]
    }
   ],
   "source": [
    "print(\"p:\", p, \"| q:\", q, \"| pvq:\", p or q)"
   ]
  },
  {
   "cell_type": "markdown",
   "id": "8d7a3806-0436-4064-b1ad-614329a2e866",
   "metadata": {},
   "source": [
    "# Exercício Proposto (Disjunções)"
   ]
  },
  {
   "cell_type": "code",
   "execution_count": 4,
   "id": "47590b09-07c3-428b-8cc8-dce04af36381",
   "metadata": {},
   "outputs": [
    {
     "name": "stdout",
     "output_type": "stream",
     "text": [
      "p: True | q: False | pvq: True\n"
     ]
    }
   ],
   "source": [
    "# a) Alterar no código a cor da caneta = \"verde\" e testar (rodar);\n",
    "\n",
    "dia = \"hoje\"\n",
    "caneta = \"verde\"\n",
    "\n",
    "p = (dia == \"hoje\")\n",
    "q = (caneta == \"azul\")\n",
    "\n",
    "print(\"p:\", p, \"| q:\", q, \"| pvq:\", p or q)"
   ]
  },
  {
   "cell_type": "code",
   "execution_count": 5,
   "id": "7401c591-c2f1-4d10-872c-50061a94fa41",
   "metadata": {},
   "outputs": [
    {
     "name": "stdout",
     "output_type": "stream",
     "text": [
      "p: False | q: True | pvq: True\n"
     ]
    }
   ],
   "source": [
    "# b) Alterar no código o dia = \"ontem\" e testar (rodar);\n",
    "\n",
    "dia = \"ontem\"\n",
    "caneta = \"azul\"\n",
    "\n",
    "p = (dia == \"hoje\")\n",
    "q = (caneta == \"azul\")\n",
    "\n",
    "print(\"p:\", p, \"| q:\", q, \"| pvq:\", p or q)"
   ]
  },
  {
   "cell_type": "code",
   "execution_count": 6,
   "id": "8484047e-763a-4bde-8f3a-73209eb2e68f",
   "metadata": {},
   "outputs": [
    {
     "name": "stdout",
     "output_type": "stream",
     "text": [
      "p: False | q: False | pvq: False\n"
     ]
    }
   ],
   "source": [
    "# c) Alterar no código o dia = \"amanhã\" e caneta = \"preta\" e testar (rodar).\n",
    "\n",
    "dia = \"amanhã\"\n",
    "caneta = \"preta\"\n",
    "\n",
    "p = (dia == \"hoje\")\n",
    "q = (caneta == \"azul\")\n",
    "\n",
    "print(\"p:\", p, \"| q:\", q, \"| pvq:\", p or q)"
   ]
  }
 ],
 "metadata": {
  "kernelspec": {
   "display_name": "Python 3 (ipykernel)",
   "language": "python",
   "name": "python3"
  },
  "language_info": {
   "codemirror_mode": {
    "name": "ipython",
    "version": 3
   },
   "file_extension": ".py",
   "mimetype": "text/x-python",
   "name": "python",
   "nbconvert_exporter": "python",
   "pygments_lexer": "ipython3",
   "version": "3.13.5"
  }
 },
 "nbformat": 4,
 "nbformat_minor": 5
}
