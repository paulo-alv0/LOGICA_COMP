{
 "cells": [
  {
   "cell_type": "markdown",
   "id": "7b54a2da-359b-46ce-b150-040c10f3dbcd",
   "metadata": {},
   "source": [
    "# Condicional/Implicação (->): A lógica só é False quando p for True, q False."
   ]
  },
  {
   "cell_type": "code",
   "execution_count": 1,
   "id": "556e43b3-29b7-45ae-ae18-90bd52115e8f",
   "metadata": {},
   "outputs": [],
   "source": [
    "# p: \"A prova é aplicada hoje\"\n",
    "# q: \"A prova é respondida à caneta azul\""
   ]
  },
  {
   "cell_type": "code",
   "execution_count": 15,
   "id": "036f7bb4-8c37-4584-9708-45afc3b24be5",
   "metadata": {},
   "outputs": [
    {
     "name": "stdout",
     "output_type": "stream",
     "text": [
      "p: True | q: True | p->q: True\n"
     ]
    }
   ],
   "source": [
    "dia = \"hoje\"\n",
    "caneta = \"azul\"\n",
    "\n",
    "p = (dia == \"hoje\")\n",
    "q = (caneta == \"azul\")\n",
    "\n",
    "print(\"p:\", p, \"| q:\", q, \"| p->q:\", (not p) or q)\n",
    "# p -> q só é falsa quando p = True e q = False"
   ]
  },
  {
   "cell_type": "markdown",
   "id": "32ac4909-7940-4727-8b32-13be1908e641",
   "metadata": {},
   "source": [
    "# Exercício Proposto (Condicional)"
   ]
  },
  {
   "cell_type": "code",
   "execution_count": 18,
   "id": "da928fe9-dc89-41ea-a762-35f2a94851c2",
   "metadata": {},
   "outputs": [
    {
     "name": "stdout",
     "output_type": "stream",
     "text": [
      "p: True | q: False | p->q: False\n"
     ]
    }
   ],
   "source": [
    "# a) Alterar no código a cor da caneta = \"preta\" e testar (rodar);\n",
    "\n",
    "dia = \"hoje\"\n",
    "caneta = \"azul\"\n",
    "\n",
    "p = (dia == \"hoje\")\n",
    "q = (caneta == \"preta\")\n",
    "\n",
    "print(\"p:\", p, \"| q:\", q, \"| p->q:\", (not p) or q)"
   ]
  },
  {
   "cell_type": "code",
   "execution_count": 20,
   "id": "6e3f160e-103e-449f-9283-f11fab5bcdba",
   "metadata": {},
   "outputs": [
    {
     "name": "stdout",
     "output_type": "stream",
     "text": [
      "p: False | q: True | p->q: True\n"
     ]
    }
   ],
   "source": [
    "# b) Alterar no código o dia = \"amanhã\" e testar (rodar);\n",
    "\n",
    "dia = \"hoje\"\n",
    "caneta = \"azul\"\n",
    "\n",
    "p = (dia == \"amanhã\")\n",
    "q = (caneta == \"azul\")\n",
    "\n",
    "print(\"p:\", p, \"| q:\", q, \"| p->q:\", (not p) or q)"
   ]
  },
  {
   "cell_type": "code",
   "execution_count": 19,
   "id": "74b4cd76-c0bf-4959-8560-74ae8c6a0054",
   "metadata": {},
   "outputs": [
    {
     "name": "stdout",
     "output_type": "stream",
     "text": [
      "p: False | q: False | p->q: True\n"
     ]
    }
   ],
   "source": [
    "# c) Alterar no código o dia = \"ontem\" e caneta = \"preta\" e testar (rodar).\n",
    "\n",
    "dia = \"hoje\"\n",
    "caneta = \"azul\"\n",
    "\n",
    "p = (dia == \"ontem\")\n",
    "q = (caneta == \"preta\")\n",
    "\n",
    "print(\"p:\", p, \"| q:\", q, \"| p->q:\", (not p) or q)"
   ]
  }
 ],
 "metadata": {
  "kernelspec": {
   "display_name": "Python 3 (ipykernel)",
   "language": "python",
   "name": "python3"
  },
  "language_info": {
   "codemirror_mode": {
    "name": "ipython",
    "version": 3
   },
   "file_extension": ".py",
   "mimetype": "text/x-python",
   "name": "python",
   "nbconvert_exporter": "python",
   "pygments_lexer": "ipython3",
   "version": "3.13.5"
  }
 },
 "nbformat": 4,
 "nbformat_minor": 5
}
