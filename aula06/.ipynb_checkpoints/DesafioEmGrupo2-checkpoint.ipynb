{
 "cells": [
  {
   "cell_type": "code",
   "execution_count": 1,
   "id": "6eb99b6f-b991-4ea6-ad5c-7af0c0d92b3b",
   "metadata": {},
   "outputs": [],
   "source": [
    "# Criar um código com três (3) proposições para tabela-verdade de Condicional e testar;\n",
    "# Criar um código com três (3) proposições para tabela-verdade de Bicondicional e testar;\n",
    "# Criar um código com duas (2) proposições utilizando Negação, Conjunção, Disjunção, Condicional e Bicondicional neste mesmo código e testar."
   ]
  },
  {
   "cell_type": "markdown",
   "id": "4430e457-0a9f-4301-814a-49cb75a9a625",
   "metadata": {},
   "source": [
    "# 1) CONDICIONAL"
   ]
  },
  {
   "cell_type": "code",
   "execution_count": 50,
   "id": "c784c0ed-6fc0-441c-a291-0bc9f5946e3e",
   "metadata": {},
   "outputs": [],
   "source": [
    "# p = \"O desafio será em grupo\"\n",
    "# q = \"A atividade será entregue hoje\"\n",
    "# r = \"O professor irá corrigir rápido\""
   ]
  },
  {
   "cell_type": "code",
   "execution_count": 51,
   "id": "d0a51e04-e5a3-4e26-a27f-ccf61560d4d3",
   "metadata": {},
   "outputs": [
    {
     "name": "stdout",
     "output_type": "stream",
     "text": [
      "p: True | q: True | r: True | (p -> q) -> r: True\n"
     ]
    }
   ],
   "source": [
    "desafio = \"grupo\" \n",
    "atividade = \"hoje\" \n",
    "professor = \"rápido\"\n",
    "\n",
    "p = (desafio == \"grupo\")\n",
    "q = (atividade == \"hoje\")\n",
    "r = (professor == \"rápido\")\n",
    "s = (not p or q)\n",
    "\n",
    "print(\"p:\", p, \"| q:\", q, \"| r:\", r, \"| (p -> q) -> r:\", (not s) or r)"
   ]
  },
  {
   "cell_type": "code",
   "execution_count": 52,
   "id": "b9bffddd-25a5-4d3e-9353-833ea93691c7",
   "metadata": {},
   "outputs": [
    {
     "name": "stdout",
     "output_type": "stream",
     "text": [
      "p: True | q: True | r: False | (p -> q) -> r: False\n"
     ]
    }
   ],
   "source": [
    "desafio = \"grupo\" \n",
    "atividade = \"hoje\" \n",
    "professor = \"rápido\"\n",
    "\n",
    "p = (desafio == \"grupo\")\n",
    "q = (atividade == \"hoje\")\n",
    "r = (professor == \"devagar\")\n",
    "s = (not p or q)\n",
    "\n",
    "print(\"p:\", p, \"| q:\", q, \"| r:\", r, \"| (p -> q) -> r:\", (not s) or r)"
   ]
  },
  {
   "cell_type": "code",
   "execution_count": 53,
   "id": "c5a4d6fb-1984-4b5f-9cc4-4abcd7bb3969",
   "metadata": {},
   "outputs": [
    {
     "name": "stdout",
     "output_type": "stream",
     "text": [
      "p: True | q: False | r: True | (p -> q) -> r: True\n"
     ]
    }
   ],
   "source": [
    "desafio = \"grupo\" \n",
    "atividade = \"hoje\" \n",
    "professor = \"rápido\"\n",
    "\n",
    "p = (desafio == \"grupo\")\n",
    "q = (atividade == \"ontem\")\n",
    "r = (professor == \"rápido\")\n",
    "s = (not p or q)\n",
    "\n",
    "print(\"p:\", p, \"| q:\", q, \"| r:\", r, \"| (p -> q) -> r:\", (not s) or r)"
   ]
  },
  {
   "cell_type": "code",
   "execution_count": 54,
   "id": "70987627-e607-411a-946e-a15389639e34",
   "metadata": {},
   "outputs": [
    {
     "name": "stdout",
     "output_type": "stream",
     "text": [
      "p: True | q: False | r: False | (p -> q) -> r: True\n"
     ]
    }
   ],
   "source": [
    "desafio = \"grupo\" \n",
    "atividade = \"hoje\" \n",
    "professor = \"rápido\"\n",
    "\n",
    "p = (desafio == \"grupo\")\n",
    "q = (atividade == \"ontem\")\n",
    "r = (professor == \"devagar\")\n",
    "s = (not p or q)\n",
    "\n",
    "print(\"p:\", p, \"| q:\", q, \"| r:\", r, \"| (p -> q) -> r:\", (not s) or r)"
   ]
  },
  {
   "cell_type": "code",
   "execution_count": 55,
   "id": "a7ace920-3c7c-48a4-bf3c-adbc1754307c",
   "metadata": {},
   "outputs": [
    {
     "name": "stdout",
     "output_type": "stream",
     "text": [
      "p: False | q: True | r: True | (p -> q) -> r: True\n"
     ]
    }
   ],
   "source": [
    "desafio = \"grupo\" \n",
    "atividade = \"hoje\" \n",
    "professor = \"rápido\"\n",
    "\n",
    "p = (desafio == \"individual\")\n",
    "q = (atividade == \"hoje\")\n",
    "r = (professor == \"rápido\")\n",
    "s = (not p or q)\n",
    "\n",
    "print(\"p:\", p, \"| q:\", q, \"| r:\", r, \"| (p -> q) -> r:\", (not s) or r)"
   ]
  },
  {
   "cell_type": "code",
   "execution_count": 56,
   "id": "e92c2c19-1101-43c1-8a1c-7dc4a89e17b7",
   "metadata": {},
   "outputs": [
    {
     "name": "stdout",
     "output_type": "stream",
     "text": [
      "p: False | q: True | r: False | (p -> q) -> r: False\n"
     ]
    }
   ],
   "source": [
    "desafio = \"grupo\" \n",
    "atividade = \"hoje\" \n",
    "professor = \"rápido\"\n",
    "\n",
    "p = (desafio == \"individual\")\n",
    "q = (atividade == \"hoje\")\n",
    "r = (professor == \"devagar\")\n",
    "s = (not p or q)\n",
    "\n",
    "print(\"p:\", p, \"| q:\", q, \"| r:\", r, \"| (p -> q) -> r:\", (not s) or r)"
   ]
  },
  {
   "cell_type": "code",
   "execution_count": 57,
   "id": "f8df34d1-f29e-4ee2-bc1d-b2910e2c1429",
   "metadata": {},
   "outputs": [
    {
     "name": "stdout",
     "output_type": "stream",
     "text": [
      "p: False | q: False | r: True | (p -> q) -> r: True\n"
     ]
    }
   ],
   "source": [
    "desafio = \"grupo\" \n",
    "atividade = \"hoje\" \n",
    "professor = \"rápido\"\n",
    "\n",
    "p = (desafio == \"individual\")\n",
    "q = (atividade == \"ontem\")\n",
    "r = (professor == \"rápido\")\n",
    "s = (not p or q)\n",
    "\n",
    "print(\"p:\", p, \"| q:\", q, \"| r:\", r, \"| (p -> q) -> r:\", (not s) or r)"
   ]
  },
  {
   "cell_type": "code",
   "execution_count": 58,
   "id": "929f5fe7-282f-4384-bcdd-fb9f25c2f68b",
   "metadata": {},
   "outputs": [
    {
     "name": "stdout",
     "output_type": "stream",
     "text": [
      "p: False | q: False | r: False | (p -> q) -> r: False\n"
     ]
    }
   ],
   "source": [
    "desafio = \"grupo\" \n",
    "atividade = \"hoje\" \n",
    "professor = \"rápido\"\n",
    "\n",
    "p = (desafio == \"individual\")\n",
    "q = (atividade == \"ontem\")\n",
    "r = (professor == \"devagar\")\n",
    "s = (not p or q)\n",
    "\n",
    "print(\"p:\", p, \"| q:\", q, \"| r:\", r, \"| (p -> q) -> r:\", (not s) or r)"
   ]
  },
  {
   "cell_type": "markdown",
   "id": "1e5aa485-8989-4c61-804b-351d6006dfbc",
   "metadata": {},
   "source": [
    "# 2) BICONDICIONAL"
   ]
  },
  {
   "cell_type": "code",
   "execution_count": 3,
   "id": "5aa560eb-b16c-4787-9922-7eaf3f44c5e9",
   "metadata": {},
   "outputs": [],
   "source": [
    "# p = \"O desafio será em grupo\" \n",
    "# q = \"A atividade será entregue hoje\"\n",
    "# r = \"O professor irá corrigir rápido\""
   ]
  },
  {
   "cell_type": "code",
   "execution_count": 11,
   "id": "2a5c6a46-8b19-4a39-acd2-5951a885b6c7",
   "metadata": {},
   "outputs": [
    {
     "name": "stdout",
     "output_type": "stream",
     "text": [
      "p: True | q: True | r: True | p <-> q <-> r: True\n"
     ]
    }
   ],
   "source": [
    "desafio = \"grupo\"\n",
    "atividade = \"hoje\"\n",
    "profissional = \"rápido\"\n",
    "\n",
    "p = (desafio == \"grupo\")\n",
    "q = (atividade == \"hoje\")\n",
    "r = (profissional == \"rápido\")\n",
    "\n",
    "print(\"p:\", p, \"| q:\", q, \"| r:\", r, \"| p <-> q <-> r:\", (p == q) == r)"
   ]
  },
  {
   "cell_type": "code",
   "execution_count": 12,
   "id": "6f4ea090-a967-4918-b7da-87acab5774cb",
   "metadata": {},
   "outputs": [
    {
     "name": "stdout",
     "output_type": "stream",
     "text": [
      "p: True | q: True | r: False | p <-> q <-> r: False\n"
     ]
    }
   ],
   "source": [
    "desafio = \"grupo\"\n",
    "atividade = \"hoje\"\n",
    "profissional = \"rápido\"\n",
    "\n",
    "p = (desafio == \"grupo\")\n",
    "q = (atividade == \"hoje\")\n",
    "r = (profissional == \"lento\")\n",
    "\n",
    "print(\"p:\", p, \"| q:\", q, \"| r:\", r, \"| p <-> q <-> r:\", (p == q) == r)"
   ]
  },
  {
   "cell_type": "code",
   "execution_count": 13,
   "id": "1d7bbd3a-1ad1-471c-b1aa-724e86ffbf5f",
   "metadata": {},
   "outputs": [
    {
     "name": "stdout",
     "output_type": "stream",
     "text": [
      "p: True | q: False | r: True | p <-> q <-> r: False\n"
     ]
    }
   ],
   "source": [
    "desafio = \"grupo\"\n",
    "atividade = \"hoje\"\n",
    "profissional = \"rápido\"\n",
    "\n",
    "p = (desafio == \"grupo\")\n",
    "q = (atividade == \"ontem\")\n",
    "r = (profissional == \"rápido\")\n",
    "\n",
    "print(\"p:\", p, \"| q:\", q, \"| r:\", r, \"| p <-> q <-> r:\", (p == q) == r)"
   ]
  },
  {
   "cell_type": "code",
   "execution_count": 14,
   "id": "f6aeaa9b-4e74-45ca-bfa3-a9e1a42997cc",
   "metadata": {},
   "outputs": [
    {
     "name": "stdout",
     "output_type": "stream",
     "text": [
      "p: True | q: False | r: False | p <-> q <-> r: True\n"
     ]
    }
   ],
   "source": [
    "desafio = \"grupo\"\n",
    "atividade = \"hoje\"\n",
    "profissional = \"rápido\"\n",
    "\n",
    "p = (desafio == \"grupo\")\n",
    "q = (atividade == \"ontem\")\n",
    "r = (profissional == \"lento\")\n",
    "\n",
    "print(\"p:\", p, \"| q:\", q, \"| r:\", r, \"| p <-> q <-> r:\", (p == q) == r)"
   ]
  },
  {
   "cell_type": "code",
   "execution_count": 16,
   "id": "6b8ed91c-6f6d-4c46-96b8-cd6016df3b4e",
   "metadata": {},
   "outputs": [
    {
     "name": "stdout",
     "output_type": "stream",
     "text": [
      "p: False | q: True | r: True | p <-> q <-> r: False\n"
     ]
    }
   ],
   "source": [
    "desafio = \"grupo\"\n",
    "atividade = \"hoje\"\n",
    "profissional = \"rápido\"\n",
    "\n",
    "p = (desafio == \"individual\")\n",
    "q = (atividade == \"hoje\")\n",
    "r = (profissional == \"rápido\")\n",
    "\n",
    "print(\"p:\", p, \"| q:\", q, \"| r:\", r, \"| p <-> q <-> r:\", (p == q) == r)"
   ]
  },
  {
   "cell_type": "code",
   "execution_count": 20,
   "id": "e21c564f-1d27-4233-b581-dadcfbfc8e4b",
   "metadata": {},
   "outputs": [
    {
     "name": "stdout",
     "output_type": "stream",
     "text": [
      "p: False | q: True | r: False | p <-> q <-> r: True\n"
     ]
    }
   ],
   "source": [
    "desafio = \"grupo\"\n",
    "atividade = \"hoje\"\n",
    "profissional = \"rápido\"\n",
    "\n",
    "p = (desafio == \"individual\")\n",
    "q = (atividade == \"hoje\")\n",
    "r = (profissional == \"lento\")\n",
    "\n",
    "print(\"p:\", p, \"| q:\", q, \"| r:\", r, \"| p <-> q <-> r:\", (p == q) == r)"
   ]
  },
  {
   "cell_type": "code",
   "execution_count": 21,
   "id": "6551798a-9bb3-43bc-bf87-c8e17c1f2d3f",
   "metadata": {},
   "outputs": [
    {
     "name": "stdout",
     "output_type": "stream",
     "text": [
      "p: False | q: False | r: True | p <-> q <-> r: True\n"
     ]
    }
   ],
   "source": [
    "desafio = \"grupo\"\n",
    "atividade = \"hoje\"\n",
    "profissional = \"rápido\"\n",
    "\n",
    "p = (desafio == \"individual\")\n",
    "q = (atividade == \"ontem\")\n",
    "r = (profissional == \"rápido\")\n",
    "\n",
    "print(\"p:\", p, \"| q:\", q, \"| r:\", r, \"| p <-> q <-> r:\", (p == q) == r)"
   ]
  },
  {
   "cell_type": "code",
   "execution_count": 22,
   "id": "eb243edd-a234-4103-9066-78ea79865319",
   "metadata": {},
   "outputs": [
    {
     "name": "stdout",
     "output_type": "stream",
     "text": [
      "p: False | q: False | r: False | p <-> q <-> r: False\n"
     ]
    }
   ],
   "source": [
    "desafio = \"grupo\"\n",
    "atividade = \"hoje\"\n",
    "profissional = \"rápido\"\n",
    "\n",
    "p = (desafio == \"individual\")\n",
    "q = (atividade == \"ontem\")\n",
    "r = (profissional == \"lento\")\n",
    "\n",
    "print(\"p:\", p, \"| q:\", q, \"| r:\", r, \"| p <-> q <-> r:\", (p == q) == r)"
   ]
  },
  {
   "cell_type": "markdown",
   "id": "f466bb02-a280-4054-b52d-ac339309d097",
   "metadata": {},
   "source": [
    "# 3) NEGAÇÃO/CONJUNÇÃO/DISJUNÇÃO/CONDICIONAL/BICONDICIONAL"
   ]
  },
  {
   "cell_type": "code",
   "execution_count": 23,
   "id": "a90d987c-a361-4da7-ab26-1d4e14b4d38f",
   "metadata": {},
   "outputs": [],
   "source": [
    "# p = \"O desafio será em grupo\" \n",
    "# q = \"A atividade será entregue hoje\""
   ]
  },
  {
   "cell_type": "code",
   "execution_count": 45,
   "id": "a035cae0-02a8-49c8-88c0-993dcf20e016",
   "metadata": {},
   "outputs": [
    {
     "name": "stdout",
     "output_type": "stream",
     "text": [
      "NEGAÇÃO: p: True | q: True\n",
      "CONJUNÇÃO: p: True | q: True | p^q: True\n",
      "DISJUNÇÃO: p: True | q: True | pvq: True\n",
      "CONDICIONAL: p: True | q: True | p->q: True\n",
      "BICONDICIONAL: p: True | q: True | p<->q: True\n"
     ]
    }
   ],
   "source": [
    "desafio = \"grupo\"\n",
    "atividade = \"hoje\"\n",
    "\n",
    "p = (desafio == \"grupo\")\n",
    "q = (atividade == \"hoje\")\n",
    "\n",
    "print(\"NEGAÇÃO: p:\", p, \"| q:\", q)\n",
    "print(\"CONJUNÇÃO: p:\", p, \"| q:\", q, \"| p^q:\", p and q)\n",
    "print(\"DISJUNÇÃO: p:\", p, \"| q:\", q, \"| pvq:\", p or q)\n",
    "print(\"CONDICIONAL: p:\", p, \"| q:\", q, \"| p->q:\", (not p) or q)\n",
    "print(\"BICONDICIONAL: p:\", p, \"| q:\", q, \"| p<->q:\", p == q)"
   ]
  },
  {
   "cell_type": "code",
   "execution_count": 46,
   "id": "d1607af4-32a8-4ef1-b71d-14064f35ac6e",
   "metadata": {},
   "outputs": [
    {
     "name": "stdout",
     "output_type": "stream",
     "text": [
      "NEGAÇÃO: p: True | q: False\n",
      "CONJUNÇÃO: p: True | q: False | p^q: False\n",
      "DISJUNÇÃO: p: True | q: False | pvq: True\n",
      "CONDICIONAL: p: True | q: False | p->q: False\n",
      "BICONDICIONAL: p: True | q: False | p<->q: False\n"
     ]
    }
   ],
   "source": [
    "desafio = \"grupo\"\n",
    "atividade = \"hoje\"\n",
    "\n",
    "p = (desafio == \"grupo\")\n",
    "q = (atividade == \"ontem\")\n",
    "\n",
    "print(\"NEGAÇÃO: p:\", p, \"| q:\", q)\n",
    "print(\"CONJUNÇÃO: p:\", p, \"| q:\", q, \"| p^q:\", p and q)\n",
    "print(\"DISJUNÇÃO: p:\", p, \"| q:\", q, \"| pvq:\", p or q)\n",
    "print(\"CONDICIONAL: p:\", p, \"| q:\", q, \"| p->q:\", (not p) or q)\n",
    "print(\"BICONDICIONAL: p:\", p, \"| q:\", q, \"| p<->q:\", p == q)"
   ]
  },
  {
   "cell_type": "code",
   "execution_count": 47,
   "id": "04f4980b-f212-4766-9e63-ea49d99e6f74",
   "metadata": {},
   "outputs": [
    {
     "name": "stdout",
     "output_type": "stream",
     "text": [
      "NEGAÇÃO: p: False | q: True\n",
      "CONJUNÇÃO: p: False | q: True | p^q: False\n",
      "DISJUNÇÃO: p: False | q: True | pvq: True\n",
      "CONDICIONAL: p: False | q: True | p->q: True\n",
      "BICONDICIONAL: p: False | q: True | p<->q: False\n"
     ]
    }
   ],
   "source": [
    "desafio = \"grupo\"\n",
    "atividade = \"hoje\"\n",
    "\n",
    "p = (desafio == \"individual\")\n",
    "q = (atividade == \"hoje\")\n",
    "\n",
    "print(\"NEGAÇÃO: p:\", p, \"| q:\", q)\n",
    "print(\"CONJUNÇÃO: p:\", p, \"| q:\", q, \"| p^q:\", p and q)\n",
    "print(\"DISJUNÇÃO: p:\", p, \"| q:\", q, \"| pvq:\", p or q)\n",
    "print(\"CONDICIONAL: p:\", p, \"| q:\", q, \"| p->q:\", (not p) or q)\n",
    "print(\"BICONDICIONAL: p:\", p, \"| q:\", q, \"| p<->q:\", p == q)"
   ]
  },
  {
   "cell_type": "code",
   "execution_count": 49,
   "id": "9e43c300-d299-414c-b1b8-b7e29a9658b3",
   "metadata": {},
   "outputs": [
    {
     "name": "stdout",
     "output_type": "stream",
     "text": [
      "NEGAÇÃO: p: False | q: False\n",
      "CONJUNÇÃO: p: False | q: False | p^q: False\n",
      "DISJUNÇÃO: p: False | q: False | pvq: False\n",
      "CONDICIONAL: p: False | q: False | p->q: True\n",
      "BICONDICIONAL: p: False | q: False | p<->q: True\n"
     ]
    }
   ],
   "source": [
    "desafio = \"grupo\"\n",
    "atividade = \"hoje\"\n",
    "\n",
    "p = (desafio == \"individual\")\n",
    "q = (atividade == \"ontem\")\n",
    "\n",
    "print(\"NEGAÇÃO: p:\", p, \"| q:\", q)\n",
    "print(\"CONJUNÇÃO: p:\", p, \"| q:\", q, \"| p^q:\", p and q)\n",
    "print(\"DISJUNÇÃO: p:\", p, \"| q:\", q, \"| pvq:\", p or q)\n",
    "print(\"CONDICIONAL: p:\", p, \"| q:\", q, \"| p->q:\", (not p) or q)\n",
    "print(\"BICONDICIONAL: p:\", p, \"| q:\", q, \"| p<->q:\", p == q)"
   ]
  }
 ],
 "metadata": {
  "kernelspec": {
   "display_name": "Python 3 (ipykernel)",
   "language": "python",
   "name": "python3"
  },
  "language_info": {
   "codemirror_mode": {
    "name": "ipython",
    "version": 3
   },
   "file_extension": ".py",
   "mimetype": "text/x-python",
   "name": "python",
   "nbconvert_exporter": "python",
   "pygments_lexer": "ipython3",
   "version": "3.13.5"
  }
 },
 "nbformat": 4,
 "nbformat_minor": 5
}
