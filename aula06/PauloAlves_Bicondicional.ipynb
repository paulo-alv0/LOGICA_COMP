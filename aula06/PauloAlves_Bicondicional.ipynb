{
 "cells": [
  {
   "cell_type": "markdown",
   "id": "90bd7801-38d8-4953-ac2e-223816167caa",
   "metadata": {},
   "source": [
    "## Bicondicional/Equivalência (<->): A lógica só é True quando p, q for True ou p, q for False."
   ]
  },
  {
   "cell_type": "code",
   "execution_count": 1,
   "id": "56dd4a5b-1a48-4e67-96e1-c7b83ea26ca3",
   "metadata": {},
   "outputs": [],
   "source": [
    "# p: \"A prova é aplicada hoje\"\n",
    "# q: \"A prova é respondida à caneta azul\""
   ]
  },
  {
   "cell_type": "code",
   "execution_count": 6,
   "id": "c64da568-f003-4114-b626-f5b6b6f51787",
   "metadata": {},
   "outputs": [
    {
     "name": "stdout",
     "output_type": "stream",
     "text": [
      "p: True | q: True | p<->q: True\n"
     ]
    }
   ],
   "source": [
    "dia = \"hoje\"\n",
    "caneta = \"azul\"\n",
    "\n",
    "p = (dia == \"hoje\")\n",
    "q = (caneta == \"azul\")\n",
    "\n",
    "print(\"p:\", p, \"| q:\", q, \"| p<->q:\", (p == q))\n",
    "# p <-> q é True quando p e q são iguais (ambos True ou ambos False)"
   ]
  },
  {
   "cell_type": "markdown",
   "id": "69d9f14e-eccf-470b-aaab-84c84acc1aaf",
   "metadata": {},
   "source": [
    "# Exercício Proposto (Bicondicional)"
   ]
  },
  {
   "cell_type": "code",
   "execution_count": 7,
   "id": "9c0c74e5-7b3d-47d1-9161-335000608e7f",
   "metadata": {},
   "outputs": [
    {
     "name": "stdout",
     "output_type": "stream",
     "text": [
      "p: True | q: False | p<->q: False\n"
     ]
    }
   ],
   "source": [
    "# a) Alterar no código a cor da caneta = \"preta\" e testar (rodar);\n",
    "\n",
    "dia = \"hoje\"\n",
    "caneta = \"azul\"\n",
    "\n",
    "p = (dia == \"hoje\")\n",
    "q = (caneta == \"preta\")\n",
    "\n",
    "print(\"p:\", p, \"| q:\", q, \"| p<->q:\", (p == q))"
   ]
  },
  {
   "cell_type": "code",
   "execution_count": 8,
   "id": "690130ee-9d9a-4cf3-9c93-13dde8e9bcfa",
   "metadata": {},
   "outputs": [
    {
     "name": "stdout",
     "output_type": "stream",
     "text": [
      "p: False | q: True | p<->q: False\n"
     ]
    }
   ],
   "source": [
    "# b) Alterar no código o dia = \"amanhã\" e testar (rodar);\n",
    "\n",
    "dia = \"hoje\"\n",
    "caneta = \"azul\"\n",
    "\n",
    "p = (dia == \"amanhã\")\n",
    "q = (caneta == \"azul\")\n",
    "\n",
    "print(\"p:\", p, \"| q:\", q, \"| p<->q:\", (p == q))"
   ]
  },
  {
   "cell_type": "code",
   "execution_count": 9,
   "id": "9c53436c-68a0-4679-962b-1a37bf015ad5",
   "metadata": {},
   "outputs": [
    {
     "name": "stdout",
     "output_type": "stream",
     "text": [
      "p: False | q: False | p<->q: True\n"
     ]
    }
   ],
   "source": [
    "# c) Alterar no código o dia = \"ontem\" e caneta = \"preta\" e testar (rodar).\n",
    "\n",
    "dia = \"hoje\"\n",
    "caneta = \"azul\"\n",
    "\n",
    "p = (dia == \"ontem\")\n",
    "q = (caneta == \"preta\")\n",
    "\n",
    "print(\"p:\", p, \"| q:\", q, \"| p<->q:\", (p == q))"
   ]
  }
 ],
 "metadata": {
  "kernelspec": {
   "display_name": "Python 3 (ipykernel)",
   "language": "python",
   "name": "python3"
  },
  "language_info": {
   "codemirror_mode": {
    "name": "ipython",
    "version": 3
   },
   "file_extension": ".py",
   "mimetype": "text/x-python",
   "name": "python",
   "nbconvert_exporter": "python",
   "pygments_lexer": "ipython3",
   "version": "3.13.5"
  }
 },
 "nbformat": 4,
 "nbformat_minor": 5
}
