{
 "cells": [
  {
   "cell_type": "code",
   "execution_count": 2,
   "id": "ee0d1180-2493-4f0f-9da0-42cdbd274002",
   "metadata": {},
   "outputs": [
    {
     "name": "stdout",
     "output_type": "stream",
     "text": [
      "NEGAÇÃO: p: True | q: True\n",
      "CONJUNÇÃO: p: True | q: True | p^q: True\n",
      "DISJUNÇÃO: p: True | q: True | pvq: True\n",
      "CONDICIONAL: p: True | q: True | p->q: True\n",
      "BICONDICIONAL: p: True | q: True | p<->q: True\n"
     ]
    }
   ],
   "source": [
    "# p = \"O desafio será em grupo\" \n",
    "# q = \"A atividade será entregue hoje\"\n",
    "\n",
    "desafio = \"grupo\"\n",
    "atividade = \"hoje\"\n",
    "\n",
    "p = (desafio == \"grupo\")\n",
    "q = (atividade == \"hoje\")\n",
    "\n",
    "print(\"NEGAÇÃO: p:\", p, \"| q:\", q)\n",
    "print(\"CONJUNÇÃO: p:\", p, \"| q:\", q, \"| p^q:\", p and q)\n",
    "print(\"DISJUNÇÃO: p:\", p, \"| q:\", q, \"| pvq:\", p or q)\n",
    "print(\"CONDICIONAL: p:\", p, \"| q:\", q, \"| p->q:\", (not p) or q)\n",
    "print(\"BICONDICIONAL: p:\", p, \"| q:\", q, \"| p<->q:\", p == q)"
   ]
  },
  {
   "cell_type": "code",
   "execution_count": 3,
   "id": "de367513-3eb8-46f6-a8c1-b103a2532b6d",
   "metadata": {},
   "outputs": [
    {
     "name": "stdout",
     "output_type": "stream",
     "text": [
      "NEGAÇÃO: p: True | q: False\n",
      "CONJUNÇÃO: p: True | q: False | p^q: False\n",
      "DISJUNÇÃO: p: True | q: False | pvq: True\n",
      "CONDICIONAL: p: True | q: False | p->q: False\n",
      "BICONDICIONAL: p: True | q: False | p<->q: False\n"
     ]
    }
   ],
   "source": [
    "# p = \"O desafio será em grupo\" \n",
    "# q = \"A atividade será entregue hoje\"\n",
    "\n",
    "desafio = \"grupo\"\n",
    "atividade = \"hoje\"\n",
    "\n",
    "p = (desafio == \"grupo\")\n",
    "q = (atividade == \"ontem\")\n",
    "\n",
    "print(\"NEGAÇÃO: p:\", p, \"| q:\", q)\n",
    "print(\"CONJUNÇÃO: p:\", p, \"| q:\", q, \"| p^q:\", p and q)\n",
    "print(\"DISJUNÇÃO: p:\", p, \"| q:\", q, \"| pvq:\", p or q)\n",
    "print(\"CONDICIONAL: p:\", p, \"| q:\", q, \"| p->q:\", (not p) or q)\n",
    "print(\"BICONDICIONAL: p:\", p, \"| q:\", q, \"| p<->q:\", p == q)"
   ]
  },
  {
   "cell_type": "code",
   "execution_count": 4,
   "id": "f10ca7e0-4b3b-46e7-85c6-87f53e33e60a",
   "metadata": {},
   "outputs": [
    {
     "name": "stdout",
     "output_type": "stream",
     "text": [
      "NEGAÇÃO: p: False | q: True\n",
      "CONJUNÇÃO: p: False | q: True | p^q: False\n",
      "DISJUNÇÃO: p: False | q: True | pvq: True\n",
      "CONDICIONAL: p: False | q: True | p->q: True\n",
      "BICONDICIONAL: p: False | q: True | p<->q: False\n"
     ]
    }
   ],
   "source": [
    "# p = \"O desafio será em grupo\" \n",
    "# q = \"A atividade será entregue hoje\"\n",
    "\n",
    "desafio = \"grupo\"\n",
    "atividade = \"hoje\"\n",
    "\n",
    "p = (desafio == \"individual\")\n",
    "q = (atividade == \"hoje\")\n",
    "\n",
    "print(\"NEGAÇÃO: p:\", p, \"| q:\", q)\n",
    "print(\"CONJUNÇÃO: p:\", p, \"| q:\", q, \"| p^q:\", p and q)\n",
    "print(\"DISJUNÇÃO: p:\", p, \"| q:\", q, \"| pvq:\", p or q)\n",
    "print(\"CONDICIONAL: p:\", p, \"| q:\", q, \"| p->q:\", (not p) or q)\n",
    "print(\"BICONDICIONAL: p:\", p, \"| q:\", q, \"| p<->q:\", p == q)"
   ]
  },
  {
   "cell_type": "code",
   "execution_count": 5,
   "id": "4f4da037-0a15-4a25-91a7-f3f3736a3a0d",
   "metadata": {},
   "outputs": [
    {
     "name": "stdout",
     "output_type": "stream",
     "text": [
      "NEGAÇÃO: p: False | q: False\n",
      "CONJUNÇÃO: p: False | q: False | p^q: False\n",
      "DISJUNÇÃO: p: False | q: False | pvq: False\n",
      "CONDICIONAL: p: False | q: False | p->q: True\n",
      "BICONDICIONAL: p: False | q: False | p<->q: True\n"
     ]
    }
   ],
   "source": [
    "# p = \"O desafio será em grupo\" \n",
    "# q = \"A atividade será entregue hoje\"\n",
    "\n",
    "desafio = \"grupo\"\n",
    "atividade = \"hoje\"\n",
    "\n",
    "p = (desafio == \"individual\")\n",
    "q = (atividade == \"ontem\")\n",
    "\n",
    "print(\"NEGAÇÃO: p:\", p, \"| q:\", q)\n",
    "print(\"CONJUNÇÃO: p:\", p, \"| q:\", q, \"| p^q:\", p and q)\n",
    "print(\"DISJUNÇÃO: p:\", p, \"| q:\", q, \"| pvq:\", p or q)\n",
    "print(\"CONDICIONAL: p:\", p, \"| q:\", q, \"| p->q:\", (not p) or q)\n",
    "print(\"BICONDICIONAL: p:\", p, \"| q:\", q, \"| p<->q:\", p == q)"
   ]
  },
  {
   "cell_type": "code",
   "execution_count": null,
   "id": "1d053b75-65b6-4e9f-a154-856c39ce1559",
   "metadata": {},
   "outputs": [],
   "source": []
  }
 ],
 "metadata": {
  "kernelspec": {
   "display_name": "Python 3 (ipykernel)",
   "language": "python",
   "name": "python3"
  },
  "language_info": {
   "codemirror_mode": {
    "name": "ipython",
    "version": 3
   },
   "file_extension": ".py",
   "mimetype": "text/x-python",
   "name": "python",
   "nbconvert_exporter": "python",
   "pygments_lexer": "ipython3",
   "version": "3.13.5"
  }
 },
 "nbformat": 4,
 "nbformat_minor": 5
}
