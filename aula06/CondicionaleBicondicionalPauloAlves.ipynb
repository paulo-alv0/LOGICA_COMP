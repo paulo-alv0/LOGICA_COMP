{
 "cells": [
  {
   "cell_type": "code",
   "execution_count": 1,
   "id": "5f8e9307-7166-4f4f-978c-f42bea5a0a61",
   "metadata": {},
   "outputs": [],
   "source": [
    "# p: \"A prova é aplicada hoje\"\n",
    "# q: \"A prova é respondida à caneta azul\""
   ]
  },
  {
   "cell_type": "code",
   "execution_count": 15,
   "id": "a4a0299d-1b2e-4e1c-8378-bd5d79916f3f",
   "metadata": {},
   "outputs": [
    {
     "name": "stdout",
     "output_type": "stream",
     "text": [
      "Condicional:\n",
      "p: True | q: True | p->q: True \n",
      "\n",
      "Bicondicional:\n",
      "p: True | q: True | p<->q: True\n"
     ]
    }
   ],
   "source": [
    "dia = \"hoje\"\n",
    "caneta = \"azul\"\n",
    "\n",
    "p = (dia == \"hoje\")\n",
    "q = (caneta == \"azul\")\n",
    "     \n",
    "print(\"Condicional:\") # p -> q é Falsa só quando p = True e q = False\n",
    "print(\"p:\", p, \"| q:\", q, \"| p->q:\", (not p) or q, \"\\n\")\n",
    "\n",
    "print(\"Bicondicional:\") # p <-> q é Verdadeira quando p e q têm o mesmo valor\n",
    "print(\"p:\", p, \"| q:\", q, \"| p<->q:\", (p == q))"
   ]
  },
  {
   "cell_type": "code",
   "execution_count": null,
   "id": "4ac2b3fd-a915-4b9e-94f9-3f1de9815f11",
   "metadata": {},
   "outputs": [],
   "source": []
  }
 ],
 "metadata": {
  "kernelspec": {
   "display_name": "Python 3 (ipykernel)",
   "language": "python",
   "name": "python3"
  },
  "language_info": {
   "codemirror_mode": {
    "name": "ipython",
    "version": 3
   },
   "file_extension": ".py",
   "mimetype": "text/x-python",
   "name": "python",
   "nbconvert_exporter": "python",
   "pygments_lexer": "ipython3",
   "version": "3.13.5"
  }
 },
 "nbformat": 4,
 "nbformat_minor": 5
}
