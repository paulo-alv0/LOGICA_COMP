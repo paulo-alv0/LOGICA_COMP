{
 "cells": [
  {
   "cell_type": "code",
   "execution_count": 7,
   "id": "60cabf7d-e061-4ea0-bdca-2296ed441dfe",
   "metadata": {},
   "outputs": [
    {
     "name": "stdin",
     "output_type": "stream",
     "text": [
      "Salário (ex: 5000):  5000\n",
      "Local do trabalho (homeoffice/presencial):  home office\n"
     ]
    },
    {
     "name": "stdout",
     "output_type": "stream",
     "text": [
      "Vaga aceita/TRUE\n",
      "p = True | q = True\n"
     ]
    }
   ],
   "source": [
    "# Aceito/TRUE se (salário >= 5000) E (trabalho = home office), senão Vaga não aceita/FALSE\n",
    "\n",
    "# 1) Entradas\n",
    "salario = float(input(\"Salário (ex: 5000): \")) # Usuário insere o valor do salário\n",
    "localdotrabalho = input(\"Local do trabalho (homeoffice/presencial): \")\n",
    "\n",
    "# 2) Proposições (True/False)\n",
    "p = (salario >= 5000) # Salário atende a base salarial?\n",
    "q = localdotrabalho.strip().replace(\" \", \"\").lower() == \"homeoffice\" # Local do trabalho é home office\n",
    "\n",
    "# 3) Conjunção (E lógica)\n",
    "if p and q:\n",
    "     print(\"Vaga aceita/TRUE\")\n",
    "else:\n",
    "     print(\"Vaga não aceita/FALSE\")\n",
    "\n",
    "# (opcional) ver os valores de P e Q\n",
    "print(\"p =\", p, \"| q =\", q)"
   ]
  },
  {
   "cell_type": "code",
   "execution_count": null,
   "id": "29f8bdcf-a5fa-48c3-a8ed-848ecf4caa3a",
   "metadata": {},
   "outputs": [],
   "source": []
  }
 ],
 "metadata": {
  "kernelspec": {
   "display_name": "Python 3 (ipykernel)",
   "language": "python",
   "name": "python3"
  },
  "language_info": {
   "codemirror_mode": {
    "name": "ipython",
    "version": 3
   },
   "file_extension": ".py",
   "mimetype": "text/x-python",
   "name": "python",
   "nbconvert_exporter": "python",
   "pygments_lexer": "ipython3",
   "version": "3.13.5"
  }
 },
 "nbformat": 4,
 "nbformat_minor": 5
}
