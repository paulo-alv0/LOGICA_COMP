{
 "cells": [
  {
   "cell_type": "code",
   "execution_count": 6,
   "id": "13132525-69f5-4419-84e9-b0512a5f7c0b",
   "metadata": {},
   "outputs": [
    {
     "name": "stdin",
     "output_type": "stream",
     "text": [
      "1º data da reunião (ex: terça-feira):  terça-feira\n",
      "2º data da reunião (ex: quinta-feira):  quinta-feira\n",
      "3º data da reunião (ex: sexta-feira):  sexta-feira\n"
     ]
    },
    {
     "name": "stdout",
     "output_type": "stream",
     "text": [
      "Reunião agendada/TRUE\n",
      "p = True | q = True | r = True\n"
     ]
    }
   ],
   "source": [
    "# Aceito/TRUE convite para reunião se for (1º data = terça-feira) OU (2º data = quinta-feira) OU (3º data = sexta-feira); senão FALSE\n",
    "\n",
    "# 1) Entradas\n",
    "primeira_data = input(\"1º data da reunião (ex: terça-feira): \")\n",
    "segunda_data = input(\"2º data da reunião (ex: quinta-feira): \")\n",
    "terceira_data = input(\"3º data da reunião (ex: sexta-feira): \")\n",
    "\n",
    "# 2) Proposições (True/False) - normaliza espaços e caixa\n",
    "p = (primeira_data.strip().lower() == \"terça-feira\") # primeira data da semana na agenda\n",
    "q = (segunda_data.strip().lower() == \"quinta-feira\") # segunda data da semana na agenda\n",
    "r = (terceira_data.strip().lower() == \"sexta-feira\") # terceira data da semana na agenda\n",
    "\n",
    "# 3) Disjunção (OU lógico)\n",
    "if p or q or r:\n",
    "    print(\"Reunião agendada/TRUE\")\n",
    "else:\n",
    "    print(\"Reunião não agendada/FALSE\")\n",
    "\n",
    "# (opcional) ver os valores de p e q e r\n",
    "print(\"p =\", p, \"| q =\", q, \"| r =\", r)"
   ]
  },
  {
   "cell_type": "code",
   "execution_count": null,
   "id": "1ce6f6bc-5f0e-49dd-9be1-4093d975d99d",
   "metadata": {},
   "outputs": [],
   "source": []
  }
 ],
 "metadata": {
  "kernelspec": {
   "display_name": "Python 3 (ipykernel)",
   "language": "python",
   "name": "python3"
  },
  "language_info": {
   "codemirror_mode": {
    "name": "ipython",
    "version": 3
   },
   "file_extension": ".py",
   "mimetype": "text/x-python",
   "name": "python",
   "nbconvert_exporter": "python",
   "pygments_lexer": "ipython3",
   "version": "3.13.5"
  }
 },
 "nbformat": 4,
 "nbformat_minor": 5
}
