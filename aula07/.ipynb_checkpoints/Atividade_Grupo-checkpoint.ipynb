{
 "cells": [
  {
   "cell_type": "code",
   "execution_count": 4,
   "id": "be78bdf8-5ee1-45e9-b866-147e89126421",
   "metadata": {},
   "outputs": [
    {
     "name": "stdin",
     "output_type": "stream",
     "text": [
      "Salário (ex: 6000):  5800\n",
      "Local do trabalho (homeoffice/presencial):  home office\n",
      "Benefício (Gympass/TotalPass):  academia\n"
     ]
    },
    {
     "name": "stdout",
     "output_type": "stream",
     "text": [
      "Vaga aceita/TRUE\n",
      "p = True | q = True | r = True\n"
     ]
    }
   ],
   "source": [
    "# 1) Entradas\n",
    "salario = float(input(\"Salário (ex: 6000): \")) # Usuário insere o valor do salário\n",
    "localdotrabalho = input(\"Local do trabalho (homeoffice/presencial): \")\n",
    "beneficio1 = input(\"Benefício (Gympass/TotalPass): \")\n",
    "\n",
    "# 2) Proposições (True/False)\n",
    "p = (salario <= 6000) # Salário atende a base salarial?\n",
    "q = localdotrabalho.strip().replace(\" \", \"\").lower() == \"homeoffice\" # Local do trabalho é home office\n",
    "r = (beneficio1.strip().replace(\" \", \"\").lower() == \"academia\") # Benefício é academia \n",
    "\n",
    "# 3) Conjunção (E lógica)\n",
    "if p and q and r:\n",
    "     print(\"Vaga aceita/TRUE\")\n",
    "else:\n",
    "     print(\"Vaga não aceita/FALSE\")\n",
    "\n",
    "# (opcional) ver os valores de P, Q e R\n",
    "print(\"p =\", p, \"| q =\", q, \"| r =\", r)"
   ]
  },
  {
   "cell_type": "code",
   "execution_count": 5,
   "id": "12c3e369-ad3f-4f92-8d9c-690cfeea629d",
   "metadata": {},
   "outputs": [
    {
     "name": "stdin",
     "output_type": "stream",
     "text": [
      "Salário (ex: 6000):  5800\n",
      "Local do trabalho (homeoffice/presencial):  home office\n",
      "Benefício (Gympass/TotalPass):  plano de saude\n"
     ]
    },
    {
     "name": "stdout",
     "output_type": "stream",
     "text": [
      "Vaga não aceita/FALSE\n",
      "p = True | q = True | r = False\n"
     ]
    }
   ],
   "source": [
    "# 1) Entradas\n",
    "salario = float(input(\"Salário (ex: 6000): \")) # Usuário insere o valor do salário\n",
    "localdotrabalho = input(\"Local do trabalho (homeoffice/presencial): \")\n",
    "beneficio1 = input(\"Benefício (Gympass/TotalPass): \")\n",
    "\n",
    "# 2) Proposições (True/False)\n",
    "p = (salario <= 6000) # Salário atende a base salarial?\n",
    "q = localdotrabalho.strip().replace(\" \", \"\").lower() == \"homeoffice\" # Local do trabalho é home office\n",
    "r = (beneficio1.strip().replace(\" \", \"\").lower() == \"academia\") # Benefício é academia \n",
    "\n",
    "# 3) Conjunção (E lógica)\n",
    "if p and q and r:\n",
    "     print(\"Vaga aceita/TRUE\")\n",
    "else:\n",
    "     print(\"Vaga não aceita/FALSE\")\n",
    "\n",
    "# (opcional) ver os valores de P, Q e R\n",
    "print(\"p =\", p, \"| q =\", q, \"| r =\", r)"
   ]
  },
  {
   "cell_type": "code",
   "execution_count": null,
   "id": "1b3d67dc-2aaf-4280-a2e3-f6d63e009c20",
   "metadata": {},
   "outputs": [],
   "source": []
  }
 ],
 "metadata": {
  "kernelspec": {
   "display_name": "Python 3 (ipykernel)",
   "language": "python",
   "name": "python3"
  },
  "language_info": {
   "codemirror_mode": {
    "name": "ipython",
    "version": 3
   },
   "file_extension": ".py",
   "mimetype": "text/x-python",
   "name": "python",
   "nbconvert_exporter": "python",
   "pygments_lexer": "ipython3",
   "version": "3.13.5"
  }
 },
 "nbformat": 4,
 "nbformat_minor": 5
}
