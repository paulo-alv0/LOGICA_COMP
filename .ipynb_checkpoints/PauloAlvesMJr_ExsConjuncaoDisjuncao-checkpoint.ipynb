{
 "cells": [
  {
   "cell_type": "markdown",
   "id": "2d68043b-05c6-4ae4-bc0b-6914bad89377",
   "metadata": {},
   "source": [
    "# 1 Exercício Proposto (Conjunções)"
   ]
  },
  {
   "cell_type": "code",
   "execution_count": 1,
   "id": "1e8af23b-dbfc-4e19-9842-5323e9bccc26",
   "metadata": {},
   "outputs": [
    {
     "name": "stdout",
     "output_type": "stream",
     "text": [
      "p: True | q: False | p^q: False\n"
     ]
    }
   ],
   "source": [
    "# a) Alterar no código a cor da caneta = \"preta\" e testar (rodar);\n",
    "\n",
    "dia = \"hoje\"\n",
    "caneta = \"preta\"\n",
    "\n",
    "p = (dia == \"hoje\")\n",
    "q = (caneta == \"azul\")\n",
    "\n",
    "print(\"p:\", p, \"| q:\", q, \"| p^q:\", p and q)"
   ]
  },
  {
   "cell_type": "code",
   "execution_count": 3,
   "id": "add9878a-42cf-425a-b170-8bae4283ff49",
   "metadata": {},
   "outputs": [
    {
     "name": "stdout",
     "output_type": "stream",
     "text": [
      "p: False | q: True | p^q: False\n"
     ]
    }
   ],
   "source": [
    "# b) Alterar no código o dia = \"amanhã\" e testar (rodar);\n",
    "\n",
    "dia = \"amanhã\"\n",
    "caneta = \"azul\"\n",
    "\n",
    "p = (dia == \"hoje\")\n",
    "q = (caneta == \"azul\")\n",
    "\n",
    "print(\"p:\", p, \"| q:\", q, \"| p^q:\", p and q)"
   ]
  },
  {
   "cell_type": "code",
   "execution_count": 4,
   "id": "ad7a4f66-da56-444b-815f-82a6c0585456",
   "metadata": {},
   "outputs": [
    {
     "name": "stdout",
     "output_type": "stream",
     "text": [
      "p: False | q: False | p^q: False\n"
     ]
    }
   ],
   "source": [
    "# c) Alterar no código o dia = \"ontem\" e caneta = \"preta\" e testar (rodar).\n",
    "\n",
    "dia = \"ontem\"\n",
    "caneta = \"preta\"\n",
    "\n",
    "p = (dia == \"hoje\")\n",
    "q = (caneta == \"azul\")\n",
    "\n",
    "print(\"p:\", p, \"| q:\", q, \"| p^q:\", p and q)"
   ]
  },
  {
   "cell_type": "markdown",
   "id": "77c5d4b9-352a-4fb3-9bdd-c28e63e75fd1",
   "metadata": {},
   "source": [
    "# 2 Exercício Proposto (Disjunções)"
   ]
  },
  {
   "cell_type": "code",
   "execution_count": 5,
   "id": "2d57e435-8b1b-4316-8c0c-a45f29585a11",
   "metadata": {},
   "outputs": [
    {
     "name": "stdout",
     "output_type": "stream",
     "text": [
      "p: True | q: False | pvq: True\n"
     ]
    }
   ],
   "source": [
    "# a) Alterar no código a cor da caneta = \"verde\" e testar (rodar);\n",
    "\n",
    "dia = \"hoje\"\n",
    "caneta = \"verde\"\n",
    "\n",
    "p = (dia == \"hoje\")\n",
    "q = (caneta == \"azul\")\n",
    "\n",
    "print(\"p:\", p, \"| q:\", q, \"| pvq:\", p or q)"
   ]
  },
  {
   "cell_type": "code",
   "execution_count": 6,
   "id": "8d844611-3e01-4454-b1c0-3e3ad31d8e81",
   "metadata": {},
   "outputs": [
    {
     "name": "stdout",
     "output_type": "stream",
     "text": [
      "p: False | q: True | pvq: True\n"
     ]
    }
   ],
   "source": [
    "# b) Alterar no código o dia = \"ontem\" e testar (rodar);\n",
    "\n",
    "dia = \"ontem\"\n",
    "caneta = \"azul\"\n",
    "\n",
    "p = (dia == \"hoje\")\n",
    "q = (caneta == \"azul\")\n",
    "\n",
    "print(\"p:\", p, \"| q:\", q, \"| pvq:\", p or q)"
   ]
  },
  {
   "cell_type": "code",
   "execution_count": 7,
   "id": "22d9395c-830b-4641-83ae-372d1e412ca1",
   "metadata": {},
   "outputs": [
    {
     "name": "stdout",
     "output_type": "stream",
     "text": [
      "p: False | q: False | pvq: False\n"
     ]
    }
   ],
   "source": [
    "# c) Alterar no código o dia = \"amanhã\" e caneta = \"preta\" e testar (rodar).\n",
    "\n",
    "dia = \"amanhã\"\n",
    "caneta = \"preta\"\n",
    "\n",
    "p = (dia == \"hoje\")\n",
    "q = (caneta == \"azul\")\n",
    "\n",
    "print(\"p:\", p, \"| q:\", q, \"| pvq:\", p or q)"
   ]
  },
  {
   "cell_type": "markdown",
   "id": "16c5d7bb-1480-4e61-a498-72ca88ff693b",
   "metadata": {},
   "source": [
    "# 3 Exercício Proposto (AND / OR)"
   ]
  },
  {
   "cell_type": "code",
   "execution_count": 17,
   "id": "81c610a6-a901-454d-9efa-d3f9704406f3",
   "metadata": {},
   "outputs": [
    {
     "name": "stdout",
     "output_type": "stream",
     "text": [
      "p = True | q = False\n",
      "p^q = True E False = False\n",
      "pvq = True OU False = True\n"
     ]
    }
   ],
   "source": [
    "# a) Alterar no código a cor da caneta = \"verde\" e testar (rodar);\n",
    "\n",
    "dia = \"hoje\"\n",
    "caneta = \"verde\"\n",
    "\n",
    "p = (dia == \"hoje\")\n",
    "q = (caneta == \"azul\")\n",
    "\n",
    "conj = p and q # conjunção (E)\n",
    "disj = p or q # disjunção (OU)\n",
    "\n",
    "print(f\"p = {p} | q = {q}\")\n",
    "print(f\"p^q = {p} E {q} = {conj}\")\n",
    "print(f\"pvq = {p} OU {q} = {disj}\")"
   ]
  },
  {
   "cell_type": "code",
   "execution_count": 15,
   "id": "6f85ebec-2f89-4183-877a-d62fdc3887d1",
   "metadata": {},
   "outputs": [
    {
     "name": "stdout",
     "output_type": "stream",
     "text": [
      "p = False | q = True\n",
      "p^q = False E True = False\n",
      "pvq = False OU True = True\n"
     ]
    }
   ],
   "source": [
    "# b) Alterar no código o dia = \"ontem\" e testar (rodar);\n",
    "\n",
    "dia = \"ontem\"\n",
    "caneta = \"azul\"\n",
    "\n",
    "p = (dia == \"hoje\")\n",
    "q = (caneta == \"azul\")\n",
    "\n",
    "conj = p and q # conjunção (E)\n",
    "disj = p or q # disjunção (OU)\n",
    "\n",
    "print(f\"p = {p} | q = {q}\")\n",
    "print(f\"p^q = {p} E {q} = {conj}\")\n",
    "print(f\"pvq = {p} OU {q} = {disj}\")"
   ]
  },
  {
   "cell_type": "code",
   "execution_count": 16,
   "id": "dddd247c-7bd5-404f-bfdc-ebb8f58c020f",
   "metadata": {},
   "outputs": [
    {
     "name": "stdout",
     "output_type": "stream",
     "text": [
      "p = False | q = False\n",
      "p^q = False E False = False\n",
      "pvq = False OU False = False\n"
     ]
    }
   ],
   "source": [
    "# c) Alterar no código o dia = \"amanhã\" e caneta = \"preta\" e testar (rodar).\n",
    "\n",
    "dia = \"amanhã\"\n",
    "caneta = \"preta\"\n",
    "\n",
    "p = (dia == \"hoje\")\n",
    "q = (caneta == \"azul\")\n",
    "\n",
    "conj = p and q # conjunção (E)\n",
    "disj = p or q # disjunção (OU)\n",
    "\n",
    "print(f\"p = {p} | q = {q}\")\n",
    "print(f\"p^q = {p} E {q} = {conj}\")\n",
    "print(f\"pvq = {p} OU {q} = {disj}\")"
   ]
  }
 ],
 "metadata": {
  "kernelspec": {
   "display_name": "Python 3 (ipykernel)",
   "language": "python",
   "name": "python3"
  },
  "language_info": {
   "codemirror_mode": {
    "name": "ipython",
    "version": 3
   },
   "file_extension": ".py",
   "mimetype": "text/x-python",
   "name": "python",
   "nbconvert_exporter": "python",
   "pygments_lexer": "ipython3",
   "version": "3.13.5"
  }
 },
 "nbformat": 4,
 "nbformat_minor": 5
}
