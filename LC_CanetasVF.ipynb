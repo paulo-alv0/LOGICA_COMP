{
 "cells": [
  {
   "cell_type": "code",
   "execution_count": 3,
   "id": "58c4e6ad-df9e-44a5-8868-ecbf444cd68d",
   "metadata": {},
   "outputs": [
    {
     "name": "stdout",
     "output_type": "stream",
     "text": [
      "Caneta usada: azul\n",
      "p (com caneta azul): True\n",
      "¬p (não com caneta azul): False\n"
     ]
    }
   ],
   "source": [
    "# Valor observado (troque para \"preta\", \"vermelha\", \"verde\", etc.)\n",
    "caneta = \"azul\"\n",
    "\n",
    "# Proposição: \"foi com caneta azul\"\n",
    "p = (caneta.lower() == \"azul\")\n",
    "\n",
    "# Negação da proposição\n",
    "nao_p = not p\n",
    "\n",
    "print(\"Caneta usada:\", caneta)\n",
    "print(\"p (com caneta azul):\", p)\n",
    "print(\"¬p (não com caneta azul):\", nao_p)"
   ]
  },
  {
   "cell_type": "code",
   "execution_count": 6,
   "id": "b8da32d1-9e37-4315-9b60-9f4ca446c95b",
   "metadata": {},
   "outputs": [
    {
     "name": "stdout",
     "output_type": "stream",
     "text": [
      "Caneta usada: preta\n",
      "p (com caneta azul): False\n",
      "¬p (não com caneta azul): True\n"
     ]
    }
   ],
   "source": [
    "# Valor observado (troque para \"preta\", \"vermelha\", \"verde\", etc.)\n",
    "caneta = \"preta\"\n",
    "\n",
    "# Proposição: \"foi com caneta azul\"\n",
    "p = (caneta.lower() == \"azul\")\n",
    "\n",
    "# Negação da proposição\n",
    "nao_p = not p\n",
    "\n",
    "print(\"Caneta usada:\", caneta)\n",
    "print(\"p (com caneta azul):\", p)\n",
    "print(\"¬p (não com caneta azul):\", nao_p)"
   ]
  },
  {
   "cell_type": "code",
   "execution_count": 7,
   "id": "8bd1203b-cc50-485b-81e9-7def4052452b",
   "metadata": {},
   "outputs": [
    {
     "name": "stdout",
     "output_type": "stream",
     "text": [
      "Caneta usada: vermelha\n",
      "p (com caneta azul): False\n",
      "¬p (não com caneta azul): True\n"
     ]
    }
   ],
   "source": [
    "# Valor observado (troque para \"preta\", \"vermelha\", \"verde\", etc.)\n",
    "caneta = \"vermelha\"\n",
    "\n",
    "# Proposição: \"foi com caneta azul\"\n",
    "p = (caneta.lower() == \"azul\")\n",
    "\n",
    "# Negação da proposição\n",
    "nao_p = not p\n",
    "\n",
    "print(\"Caneta usada:\", caneta)\n",
    "print(\"p (com caneta azul):\", p)\n",
    "print(\"¬p (não com caneta azul):\", nao_p)"
   ]
  },
  {
   "cell_type": "code",
   "execution_count": 9,
   "id": "3f6721c2-ea29-416e-b144-badf6987dbfd",
   "metadata": {},
   "outputs": [
    {
     "name": "stdout",
     "output_type": "stream",
     "text": [
      "Caneta usada: laranja\n",
      "p (com caneta azul): False\n",
      "¬p (não com caneta azul): True\n"
     ]
    }
   ],
   "source": [
    "# Valor observado (troque para \"preta\", \"vermelha\", \"verde\", etc.)\n",
    "caneta = \"laranja\"\n",
    "\n",
    "# Proposição: \"foi com caneta azul\"\n",
    "p = (caneta.lower() == \"azul\")\n",
    "\n",
    "# Negação da proposição\n",
    "nao_p = not p\n",
    "\n",
    "print(\"Caneta usada:\", caneta)\n",
    "print(\"p (com caneta azul):\", p)\n",
    "print(\"¬p (não com caneta azul):\", nao_p)"
   ]
  },
  {
   "cell_type": "code",
   "execution_count": null,
   "id": "2ca46e95-2126-421c-bea7-f18be5178f37",
   "metadata": {},
   "outputs": [],
   "source": []
  },
  {
   "cell_type": "code",
   "execution_count": null,
   "id": "e5c35daa-cd73-4e7c-a71f-65ddace532e2",
   "metadata": {},
   "outputs": [],
   "source": []
  }
 ],
 "metadata": {
  "kernelspec": {
   "display_name": "Python 3 (ipykernel)",
   "language": "python",
   "name": "python3"
  },
  "language_info": {
   "codemirror_mode": {
    "name": "ipython",
    "version": 3
   },
   "file_extension": ".py",
   "mimetype": "text/x-python",
   "name": "python",
   "nbconvert_exporter": "python",
   "pygments_lexer": "ipython3",
   "version": "3.13.5"
  }
 },
 "nbformat": 4,
 "nbformat_minor": 5
}
