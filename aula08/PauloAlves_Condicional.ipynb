{
 "cells": [
  {
   "cell_type": "code",
   "execution_count": null,
   "id": "c7f2dfae-fcce-4c98-94b3-892636144734",
   "metadata": {},
   "outputs": [],
   "source": [
    "# SE o uso dos dados pessoais identificais (PII) for TRUE/FALSE ENTÃO existe consentimento ou base legal TRUE/FALSE.\n",
    "# lembra a regra do condicional: p > q só é FALSO quando p = True e q = False\n",
    "p q p>q\n",
    "V V V\n",
    "V F F\n",
    "F V V\n",
    "F F V"
   ]
  },
  {
   "cell_type": "code",
   "execution_count": 19,
   "id": "fbdb0285-1110-47e1-b6b4-99fbb917cecb",
   "metadata": {},
   "outputs": [
    {
     "name": "stdin",
     "output_type": "stream",
     "text": [
      "O modelo usa PII? (s/n):  s\n",
      "Há consentimento/base legal? (s/n):  n\n"
     ]
    },
    {
     "name": "stdout",
     "output_type": "stream",
     "text": [
      "BLOQUEADO: PII sem base legal.\n"
     ]
    }
   ],
   "source": [
    "usa_PII = input(\"O modelo usa PII? (s/n): \").strip().lower().startswith(\"s\")\n",
    "consentimento_ou_base_legal = input(\"Há consentimento/base legal? (s/n): \").strip().lower().startswith(\"s\")\n",
    "\n",
    "if usa_PII and not consentimento_ou_base_legal:\n",
    "    print(\"BLOQUEADO: PII sem base legal.\")\n",
    "else:\n",
    "    print(\"OK: política atendida.\")"
   ]
  }
 ],
 "metadata": {
  "kernelspec": {
   "display_name": "Python 3 (ipykernel)",
   "language": "python",
   "name": "python3"
  },
  "language_info": {
   "codemirror_mode": {
    "name": "ipython",
    "version": 3
   },
   "file_extension": ".py",
   "mimetype": "text/x-python",
   "name": "python",
   "nbconvert_exporter": "python",
   "pygments_lexer": "ipython3",
   "version": "3.13.5"
  }
 },
 "nbformat": 4,
 "nbformat_minor": 5
}
