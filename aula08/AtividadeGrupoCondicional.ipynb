{
 "cells": [
  {
   "cell_type": "markdown",
   "id": "541bd169-276a-4006-b6f4-072d8828616a",
   "metadata": {},
   "source": [
    "# Atividade em Grupo - Condicional"
   ]
  },
  {
   "cell_type": "code",
   "execution_count": 1,
   "id": "7edfd471-9f19-42ee-82e2-b9e8e9f46bc8",
   "metadata": {},
   "outputs": [],
   "source": [
    "# a) Pesquisar na internet algo similar para a primeira PROPOSIÇÃO, atualizar o contexto no código e testar (rodar);"
   ]
  },
  {
   "cell_type": "code",
   "execution_count": 25,
   "id": "6df3ef16-90d0-4152-95a7-86d142f9129b",
   "metadata": {},
   "outputs": [
    {
     "name": "stdin",
     "output_type": "stream",
     "text": [
      "O usuário é menor de idade? (s/n):  s\n",
      "Há consentimento/base legal? (s/n):  n\n"
     ]
    },
    {
     "name": "stdout",
     "output_type": "stream",
     "text": [
      "BLOQUEADO: O usuário não é maior de idade - FALSO\n"
     ]
    }
   ],
   "source": [
    "idade_usuario = input(\"O usuário é menor de idade? (s/n): \").strip().lower().startswith(\"s\")\n",
    "consentimento_ou_base_legal = input(\"Há consentimento/base legal? (s/n): \").strip().lower().startswith(\"s\")\n",
    "\n",
    "if idade_usuario and not consentimento_ou_base_legal:\n",
    "    print(\"BLOQUEADO: O usuário não é maior de idade - FALSO\")\n",
    "else:\n",
    "    print(\"OK! política atendida.\")"
   ]
  },
  {
   "cell_type": "code",
   "execution_count": 2,
   "id": "6312d0c8-ad5b-4f12-bb7d-c1556f2544bf",
   "metadata": {},
   "outputs": [],
   "source": [
    "# b) Pesquisar na internet SITUAÇÕES similares para a primeira PROPOSIÇÃO e para a segunda PROPOSIÇÃO, atualizar o contexto no código e testar (rodar);"
   ]
  },
  {
   "cell_type": "code",
   "execution_count": 26,
   "id": "366a0d67-7236-4c1a-93bc-a98a3e2e50d7",
   "metadata": {},
   "outputs": [
    {
     "name": "stdin",
     "output_type": "stream",
     "text": [
      "O usuário é menor de idade? (s/n):  s\n",
      "Há consentimento/autorização dos pais/base legal? (s/n):  n\n"
     ]
    },
    {
     "name": "stdout",
     "output_type": "stream",
     "text": [
      "ACESSO NEGADO: Usuário menor de idade - FALSO\n"
     ]
    }
   ],
   "source": [
    "idade_usuario = input(\"O usuário é menor de idade? (s/n): \").strip().lower().startswith(\"s\")\n",
    "consentimento_dos_pais_ou_base_legal = input(\"Há consentimento/autorização dos pais/base legal? (s/n): \").strip().lower().startswith(\"s\")\n",
    "\n",
    "if idade_usuario and not consentimento_dos_pais_ou_base_legal:\n",
    "    print(\"ACESSO NEGADO: Usuário menor de idade - FALSO\")\n",
    "else:\n",
    "    print(\"OK! Acesso autorizado mediante consentimento dos pais.\")"
   ]
  },
  {
   "cell_type": "code",
   "execution_count": null,
   "id": "4e7bc1fc-5ca6-490c-85dd-8cb42ecd336e",
   "metadata": {},
   "outputs": [],
   "source": []
  }
 ],
 "metadata": {
  "kernelspec": {
   "display_name": "Python 3 (ipykernel)",
   "language": "python",
   "name": "python3"
  },
  "language_info": {
   "codemirror_mode": {
    "name": "ipython",
    "version": 3
   },
   "file_extension": ".py",
   "mimetype": "text/x-python",
   "name": "python",
   "nbconvert_exporter": "python",
   "pygments_lexer": "ipython3",
   "version": "3.13.5"
  }
 },
 "nbformat": 4,
 "nbformat_minor": 5
}
