{
 "cells": [
  {
   "cell_type": "markdown",
   "id": "2ba75a33-e84e-4c03-9e86-1eee635ff28d",
   "metadata": {},
   "source": [
    "# 2° Atividade em Grupo - Condicional"
   ]
  },
  {
   "cell_type": "code",
   "execution_count": 1,
   "id": "97d120e4-6a48-4e2a-be7e-fa190dc60871",
   "metadata": {},
   "outputs": [],
   "source": [
    "# a) Pesquisar na internet quanto é o desconto na primeira compra em um site de relógios (Seiko, Tecnos e etc)\n",
    "# e atualizar o valor no código e testar (rodar);"
   ]
  },
  {
   "cell_type": "code",
   "execution_count": 13,
   "id": "a9bb01a5-10ee-4a6e-aadb-6c83e7c4a84f",
   "metadata": {},
   "outputs": [
    {
     "name": "stdin",
     "output_type": "stream",
     "text": [
      "Desconto concedido (%):  20\n",
      "Há aprovação na gerência? (s/n):  s\n"
     ]
    },
    {
     "name": "stdout",
     "output_type": "stream",
     "text": [
      "TRUE\n"
     ]
    }
   ],
   "source": [
    "LIMITE_DESC = 20.0\n",
    "desconto = float(input(\"Desconto concedido (%): \").replace(\",\",\".\"))\n",
    "aprovacao_gerencia = input(\"Há aprovação na gerência? (s/n): \").strip().lower().startswith(\"s\")\n",
    "\n",
    "p = (desconto > LIMITE_DESC)\n",
    "q = aprovacao_gerencia\n",
    "\n",
    "resultado = (not p) and q # P -> Q\n",
    "print(\"TRUE\" if resultado else \"FALSE\")"
   ]
  },
  {
   "cell_type": "code",
   "execution_count": 2,
   "id": "a9b78638-bc3f-4af2-bc4e-32f973eaa2b5",
   "metadata": {},
   "outputs": [],
   "source": [
    "# b) Incluir mais uma entrada/proposição de conectivo Condicional, sendo esse um desconto, valor máximo, testar (rodar);"
   ]
  },
  {
   "cell_type": "code",
   "execution_count": 37,
   "id": "afc242fb-8b47-42e6-b884-25af9f8427bc",
   "metadata": {},
   "outputs": [
    {
     "name": "stdin",
     "output_type": "stream",
     "text": [
      "Desconto concedido (%):  10\n",
      "Desconto concedido para venda casada (%):  20\n",
      "Há aprovação na gerência? (s/n):  s\n"
     ]
    },
    {
     "name": "stdout",
     "output_type": "stream",
     "text": [
      "TRUE\n"
     ]
    }
   ],
   "source": [
    "LIMITE_DESC_INICIAL = 10.0\n",
    "LIMITE_DESC_FINAL = 20.0\n",
    "\n",
    "desconto = float(input(\"Desconto concedido (%): \").replace(\",\",\".\"))\n",
    "desconto_venda_casada = float(input(\"Desconto concedido para venda casada (%): \").replace(\",\",\".\"))\n",
    "aprovacao_gerencia = input(\"Há aprovação na gerência? (s/n): \").strip().lower().startswith(\"s\")\n",
    "\n",
    "p = (desconto > LIMITE_DESC_INICIAL)\n",
    "q = (desconto_venda_casada > LIMITE_DESC_FINAL)\n",
    "r = aprovacao_gerencia\n",
    "\n",
    "resultado = (not p) or q and r\n",
    "print(\"TRUE\" if resultado else \"FALSE\")"
   ]
  },
  {
   "cell_type": "code",
   "execution_count": null,
   "id": "abf5d297-6c35-4fec-95dd-fd7cc2cb22dd",
   "metadata": {},
   "outputs": [],
   "source": []
  }
 ],
 "metadata": {
  "kernelspec": {
   "display_name": "Python 3 (ipykernel)",
   "language": "python",
   "name": "python3"
  },
  "language_info": {
   "codemirror_mode": {
    "name": "ipython",
    "version": 3
   },
   "file_extension": ".py",
   "mimetype": "text/x-python",
   "name": "python",
   "nbconvert_exporter": "python",
   "pygments_lexer": "ipython3",
   "version": "3.13.5"
  }
 },
 "nbformat": 4,
 "nbformat_minor": 5
}
