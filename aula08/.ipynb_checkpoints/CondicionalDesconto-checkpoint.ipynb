{
 "cells": [
  {
   "cell_type": "code",
   "execution_count": 1,
   "id": "5207ce5e-4ac6-4051-90a2-fc99ad5106fb",
   "metadata": {},
   "outputs": [],
   "source": [
    "# Política: Se o desconto for maior que 10%, então precisa de aprovação da gerência."
   ]
  },
  {
   "cell_type": "code",
   "execution_count": 9,
   "id": "1f24b4b4-3ccd-4f26-93e7-a502ba0da7e8",
   "metadata": {},
   "outputs": [
    {
     "name": "stdin",
     "output_type": "stream",
     "text": [
      "Desconto concedido (%):  15\n",
      "Há aprovação na gerência? (s/n):  n\n"
     ]
    },
    {
     "name": "stdout",
     "output_type": "stream",
     "text": [
      "FALSE\n"
     ]
    }
   ],
   "source": [
    "# Entradas (input -> limpeza -> tipos)\n",
    "LIMITE_DESC = 10.0\n",
    "desconto = float(input(\"Desconto concedido (%): \").replace(\",\",\".\"))\n",
    "aprovacao_gerencia = input(\"Há aprovação na gerência? (s/n): \").strip().lower().startswith(\"s\")\n",
    "\n",
    "# Proposições (True/False)\n",
    "p = (desconto > LIMITE_DESC)\n",
    "q = aprovacao_gerencia\n",
    "\n",
    "# Decisão Lógica (implicação P -> Q) e PRINT\n",
    "resultado = (not p) or q # P -> Q\n",
    "print(\"TRUE\" if resultado else \"FALSE\")"
   ]
  }
 ],
 "metadata": {
  "kernelspec": {
   "display_name": "Python 3 (ipykernel)",
   "language": "python",
   "name": "python3"
  },
  "language_info": {
   "codemirror_mode": {
    "name": "ipython",
    "version": 3
   },
   "file_extension": ".py",
   "mimetype": "text/x-python",
   "name": "python",
   "nbconvert_exporter": "python",
   "pygments_lexer": "ipython3",
   "version": "3.13.5"
  }
 },
 "nbformat": 4,
 "nbformat_minor": 5
}
